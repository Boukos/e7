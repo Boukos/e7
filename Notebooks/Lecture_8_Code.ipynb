{
 "cells": [
  {
   "cell_type": "markdown",
   "metadata": {},
   "source": [
    "## Lecture 8"
   ]
  },
  {
   "cell_type": "markdown",
   "metadata": {},
   "source": [
    "### Serializing Functions"
   ]
  },
  {
   "cell_type": "code",
   "execution_count": null,
   "metadata": {},
   "outputs": [],
   "source": [
    "import pickle\n",
    "\n",
    "def concat(a,b):\n",
    "    \"\"\"\n",
    "    Given 2 strings as input\n",
    "    returns a concatenated string\n",
    "    \"\"\"\n",
    "    return a + b\n",
    "\n",
    "ser_concat = pickle.dumps(concat)\n",
    "print (ser_concat)\n",
    "\n",
    "#notice that it looks like it worked, but!\n",
    "#can you see anything about a and b here, returning concatenation?\n",
    "\n",
    "de_ser_concat = pickle.loads(ser_concat)\n",
    "de_ser_concat(\"Cats \",\"Dogs\")\n",
    "\n",
    "#Careful...the only reason this worked is because concat is defined\n",
    "#let's provethis"
   ]
  },
  {
   "cell_type": "markdown",
   "metadata": {},
   "source": [
    "### But don't worry this is Python :)\n",
    "### A special pickle can be summoned"
   ]
  },
  {
   "cell_type": "code",
   "execution_count": null,
   "metadata": {},
   "outputs": [],
   "source": [
    "import dill as pkl\n",
    "\n",
    "ser_concat = pkl.dumps(concat)\n",
    "ser_concat"
   ]
  },
  {
   "cell_type": "markdown",
   "metadata": {},
   "source": [
    "### Loading a JSON string"
   ]
  },
  {
   "cell_type": "code",
   "execution_count": null,
   "metadata": {},
   "outputs": [],
   "source": [
    "json_s = '{\"SSN\": \"234-93-1234\", \"address\":\"345 River Street\"}'\n",
    "\n",
    "import json\n",
    "json_d = json.loads(json_s)\n",
    "\n",
    "print (type(json_d))\n",
    "json_d['SSN']\n"
   ]
  },
  {
   "cell_type": "markdown",
   "metadata": {},
   "source": [
    "### Creating a JSON file (JavaScript Object Notation)"
   ]
  },
  {
   "cell_type": "code",
   "execution_count": null,
   "metadata": {},
   "outputs": [],
   "source": [
    "import json,pickle\n",
    "\n",
    "d = {}\n",
    "d['id'] = 'AD-1234'\n",
    "d['target'] = 'PCSK-9'\n",
    "d['hashtags'] = ('cholesterol', 'discovery', 'patents')\n",
    "d['patented'] = True\n",
    "d['scientists'] = ['Dwayne Elizondo Mountain Dew Herbert Camacho','Jay']\n",
    "\n",
    "with open('d.json', mode='w', encoding='utf-8') as f:\n",
    "    json.dump(d, f)  \n",
    "    \n",
    "with open('d.pickle', mode='wb') as f:\n",
    "    pickle.dump(d, f)\n",
    "    \n",
    "d    \n",
    "#examine the JSON file"
   ]
  },
  {
   "cell_type": "markdown",
   "metadata": {},
   "source": [
    "### Making JSON files even more readable with indent"
   ]
  },
  {
   "cell_type": "code",
   "execution_count": null,
   "metadata": {
    "collapsed": true
   },
   "outputs": [],
   "source": [
    "#note if indent is 2 everything will be on its own line\n",
    "#n white spaces will be introduced to separate nested values\n",
    "with open('d_nice.json', mode='w', encoding='utf-8') as f:\n",
    "    json.dump(d, f,indent = 2)"
   ]
  },
  {
   "cell_type": "markdown",
   "metadata": {},
   "source": [
    "### Loading a JSON file"
   ]
  },
  {
   "cell_type": "code",
   "execution_count": null,
   "metadata": {},
   "outputs": [],
   "source": [
    "with open('d_nice.json',mode='r',encoding='utf-8') as f:\n",
    "    loaded = json.load(f)\n",
    "    \n",
    "loaded\n",
    "#Do you notice something strange?"
   ]
  },
  {
   "cell_type": "markdown",
   "metadata": {},
   "source": [
    "### Loading JSON from a URL\n",
    "### Getting SNP information from the ExAC database"
   ]
  },
  {
   "cell_type": "code",
   "execution_count": null,
   "metadata": {},
   "outputs": [],
   "source": [
    "import urllib.request, json\n",
    "\n",
    "#this is our url\n",
    "url = \"http://exac.hms.harvard.edu//rest/dbsnp/rs362331\"\n",
    "response = urllib.request.urlopen(url)\n",
    "#us json.loads to unpack the json\n",
    "data = json.loads(response.read())\n",
    "\n",
    "print (type(data))\n",
    "#print (data)\n",
    "print (data.keys())\n",
    "print (data['variants_in_region'][0]['pop_homs'])"
   ]
  },
  {
   "cell_type": "markdown",
   "metadata": {},
   "source": [
    "### Handling Exceptions is great for a smooth user experience and requires anticipation"
   ]
  },
  {
   "cell_type": "markdown",
   "metadata": {},
   "source": [
    "Error Not Handled -> Program Crashes Badly"
   ]
  },
  {
   "cell_type": "code",
   "execution_count": null,
   "metadata": {},
   "outputs": [],
   "source": [
    "with open('python_smart.txt','r') as f:\n",
    "    a = f.read()\n"
   ]
  },
  {
   "cell_type": "markdown",
   "metadata": {},
   "source": [
    "### Introduction to Try and Except\n",
    "#### A General Exception (Catches everything, not specific)"
   ]
  },
  {
   "cell_type": "code",
   "execution_count": null,
   "metadata": {},
   "outputs": [],
   "source": [
    "try:\n",
    "    with open('python_smart.txt','r') as f:\n",
    "        a = f.read()\n",
    "except Exception:\n",
    "    print (\"Something happened.\")"
   ]
  },
  {
   "cell_type": "markdown",
   "metadata": {},
   "source": [
    "#### A specific Exception (Catches only FileNotFoundError)"
   ]
  },
  {
   "cell_type": "code",
   "execution_count": null,
   "metadata": {},
   "outputs": [],
   "source": [
    "try:\n",
    "    with open('python_smart.txt','r') as f:\n",
    "        a = f.read()\n",
    "except FileNotFoundError:\n",
    "    print (\"Sorry file not found.\")"
   ]
  },
  {
   "cell_type": "markdown",
   "metadata": {},
   "source": [
    "#### Note that we have been outputing our own messages so far.\n",
    "### Using Python's Built-in report."
   ]
  },
  {
   "cell_type": "code",
   "execution_count": null,
   "metadata": {},
   "outputs": [],
   "source": [
    "try:\n",
    "    with open('python_smart.txt','r') as f:\n",
    "        a = f.read()\n",
    "except FileNotFoundError as e:\n",
    "    print (e)"
   ]
  },
  {
   "cell_type": "markdown",
   "metadata": {},
   "source": [
    "#### What happens if there are two exceptions in this case?"
   ]
  },
  {
   "cell_type": "code",
   "execution_count": null,
   "metadata": {},
   "outputs": [],
   "source": [
    "try:\n",
    "    with open('py_smart.txt','r') as f:\n",
    "        a = f.read()\n",
    "    print (spam())\n",
    "except FileNotFoundError as e:\n",
    "    print (e)\n",
    "    \n",
    "def spam():\n",
    "    return \"Nice!\""
   ]
  },
  {
   "cell_type": "code",
   "execution_count": null,
   "metadata": {},
   "outputs": [],
   "source": [
    "try:\n",
    "    with open('py_smart.txt','r') as f:\n",
    "        a = f.read()\n",
    "        print (spam3())\n",
    "except FileNotFoundError as e:\n",
    "    print (e)\n",
    "except NameError as e:\n",
    "    print (e)\n",
    "    \n",
    "def spam3():\n",
    "    return \"Nice!\""
   ]
  },
  {
   "cell_type": "markdown",
   "metadata": {},
   "source": [
    "### Handling multiple exceptions\n",
    "### Keep the specific handling on top and the general below"
   ]
  },
  {
   "cell_type": "code",
   "execution_count": null,
   "metadata": {},
   "outputs": [],
   "source": [
    "try:\n",
    "    with open('python_smart.txt','r') as f:\n",
    "        a = f.read()\n",
    "    b = c\n",
    "except Exception as e:\n",
    "    print (\"Something Happened\")\n",
    "except FileNotFoundError as e:\n",
    "    print (e)\n",
    "\n"
   ]
  },
  {
   "cell_type": "code",
   "execution_count": null,
   "metadata": {},
   "outputs": [],
   "source": [
    "try:\n",
    "    with open('python_smart.txt','r') as f:\n",
    "        a = f.read()\n",
    "    b = c\n",
    "except FileNotFoundError as e:\n",
    "    print (e)\n",
    "except Exception as e:\n",
    "    print (\"Something Happened\")"
   ]
  },
  {
   "cell_type": "markdown",
   "metadata": {},
   "source": [
    "### TRY EXCEPT ELSE"
   ]
  },
  {
   "cell_type": "code",
   "execution_count": null,
   "metadata": {},
   "outputs": [],
   "source": [
    "try:\n",
    "    with open('py_smart.txt','r') as f:\n",
    "        a = f.read()\n",
    "except FileNotFoundError as e:\n",
    "    print (e)\n",
    "else:\n",
    "    print (\"Failed!\")\n"
   ]
  },
  {
   "cell_type": "markdown",
   "metadata": {},
   "source": [
    "### TRY EXCEPT ELSE FINALLY"
   ]
  },
  {
   "cell_type": "code",
   "execution_count": 2,
   "metadata": {},
   "outputs": [
    {
     "name": "stdout",
     "output_type": "stream",
     "text": [
      "It looks like most people are interested in Pandas.\n",
      "Good choice :)!\n",
      "Done!\n"
     ]
    }
   ],
   "source": [
    "try:\n",
    "    with open('py_smart.txt','r') as f:\n",
    "        a = f.read()\n",
    "except FileNotFoundError as e:\n",
    "    print (e)\n",
    "except NameError as e:\n",
    "    print (e)\n",
    "else:\n",
    "    print (a)\n",
    "finally:\n",
    "    print (\"Done!\")"
   ]
  },
  {
   "cell_type": "markdown",
   "metadata": {},
   "source": [
    "### Raising your own exceptions"
   ]
  },
  {
   "cell_type": "code",
   "execution_count": null,
   "metadata": {},
   "outputs": [],
   "source": [
    "print (\"Enter a number:\")\n",
    "a = int(input(\">>>\"))\n",
    "try:\n",
    "    if a == 0:\n",
    "        raise Exception\n",
    "except Exception:\n",
    "    print (\"User entered 0.  This is not allowed.\")\n",
    "else:\n",
    "    print (\"You entered the valid number:\",a)\n",
    "finally:\n",
    "    print (\"Done!\")\n",
    "    "
   ]
  },
  {
   "cell_type": "markdown",
   "metadata": {},
   "source": [
    "### More FUNctions :)\n",
    "#### What if you didn't know how many args to pass to a function?\n",
    "#### Let's say your function has to sum N numbers"
   ]
  },
  {
   "cell_type": "code",
   "execution_count": 5,
   "metadata": {},
   "outputs": [
    {
     "data": {
      "text/plain": [
       "0"
      ]
     },
     "execution_count": 5,
     "metadata": {},
     "output_type": "execute_result"
    }
   ],
   "source": [
    "def sum_it(a,b):\n",
    "    \"\"\"\n",
    "    can return a sum of only 2 numbers\n",
    "    \"\"\"\n",
    "    return a + b\n",
    "\n",
    "def multiply_it(*args):\n",
    "    my_prod = 0\n",
    "    for num in args:\n",
    "        my_prod *= num\n",
    "    return my_prod\n",
    "\n",
    "multiply_it(1,2,3)\n",
    "\n",
    "    "
   ]
  },
  {
   "cell_type": "code",
   "execution_count": 16,
   "metadata": {},
   "outputs": [
    {
     "data": {
      "text/plain": [
       "False"
      ]
     },
     "execution_count": 16,
     "metadata": {},
     "output_type": "execute_result"
    }
   ],
   "source": [
    "c = lambda x: (5/9)*(x-32)\n",
    "c(81)\n",
    "a = True == 2\n",
    "a"
   ]
  },
  {
   "cell_type": "markdown",
   "metadata": {},
   "source": [
    "### Even better you can use * to pass a list of things to n_sum_it"
   ]
  },
  {
   "cell_type": "code",
   "execution_count": null,
   "metadata": {},
   "outputs": [],
   "source": [
    "nums = [5,5,4,4,4]\n",
    "nums2 = (1,2,3)\n",
    "\n",
    "#n_sum_it(*nums)\n",
    "n_sum_it(*nums2)"
   ]
  },
  {
   "cell_type": "markdown",
   "metadata": {},
   "source": [
    "### You can use **kwargs to pass named arguments"
   ]
  },
  {
   "cell_type": "code",
   "execution_count": 4,
   "metadata": {},
   "outputs": [
    {
     "name": "stdout",
     "output_type": "stream",
     "text": [
      "spam 8\n",
      "eggs 2\n",
      "spam 8\n",
      "eggs 2\n"
     ]
    },
    {
     "data": {
      "text/plain": [
       "10"
      ]
     },
     "execution_count": 4,
     "metadata": {},
     "output_type": "execute_result"
    }
   ],
   "source": [
    "def k_sum_it(**kwargs):\n",
    "    my_sum = 0\n",
    "    for name,num in kwargs.items(): #what is kwargs?\n",
    "        print(name,num)\n",
    "        my_sum += num\n",
    "    return my_sum\n",
    "\n",
    "k_sum_it(spam = 8, eggs = 2)\n",
    "\n",
    "def k_sum_it1(**args):\n",
    "    my_sum = 0\n",
    "    for name,num in args.items(): #what is kwargs?\n",
    "        print(name,num)\n",
    "        my_sum += num\n",
    "    return my_sum\n",
    "\n",
    "k_sum_it1(spam = 8, eggs = 2)"
   ]
  },
  {
   "cell_type": "markdown",
   "metadata": {},
   "source": [
    "## Lambdas \n",
    "## Always return a value, so no need for writing return"
   ]
  },
  {
   "cell_type": "code",
   "execution_count": null,
   "metadata": {},
   "outputs": [],
   "source": [
    "# we know how to make functions\n",
    "\n",
    "def multiplier(a,b):\n",
    "    return a * b\n",
    "\n",
    "multiplier(3,4)\n",
    "\n",
    "#the same can be expressed with a lambda function\n",
    "m = lambda a,b:a*b\n",
    "m(3,9)\n",
    "\n"
   ]
  },
  {
   "cell_type": "markdown",
   "metadata": {},
   "source": [
    "## FILTER\n",
    "## a Function returning a boolean, an iterable"
   ]
  },
  {
   "cell_type": "code",
   "execution_count": null,
   "metadata": {},
   "outputs": [],
   "source": [
    "a = range(1,10)\n",
    "b = [\"Kyle\",\"Kenny\",\"Eric\",\"Stan\"]\n",
    "\n",
    "div_4 = list(filter(lambda x: x%4==0,a))\n",
    "print (div_4)\n",
    "\n",
    "k_first = list(filter(lambda x: x[0]=='K',b))\n",
    "\n",
    "print (k_first)"
   ]
  },
  {
   "cell_type": "markdown",
   "metadata": {},
   "source": [
    "## MAP\n",
    "\n",
    "map(function,iterable)\n",
    "In many cases list comprehensions are more readable and therefore better.\n",
    "\n",
    "You decide.  In a book I am currently reading called Effective Python, by Brett Slatkin (Google), Brett talks about readability issues and recommends the following:\n",
    "\n",
    "1. List Comprehensions are clearer since they don't require the lambda expressions\n",
    "2. List Comprehensions allow you to skip items from input list (you need filter to help out with map).  In a list comprehensions you have the optional predicate if statement for this.\n",
    "3. Dictionary and Set comprehensions exist in Python 3."
   ]
  },
  {
   "cell_type": "code",
   "execution_count": null,
   "metadata": {},
   "outputs": [],
   "source": [
    "a = range(1,11)\n",
    "b = range(11,21)\n",
    "\n",
    "square = list(map(lambda x: x * x, a))\n",
    "square1 = [x * x for x in a]\n",
    "print (square)\n",
    "print (square1)\n",
    "\n",
    "#passing more iterables\n",
    "multi = list(map(lambda x,y: x * y, a,b))\n",
    "multi1 = [x * y for x,y in zip(a,b)]\n",
    "print (multi)\n",
    "print(multi1)"
   ]
  },
  {
   "cell_type": "markdown",
   "metadata": {},
   "source": [
    "### REDUCE\n",
    "#### FYI: Guido doesn't like Reduce\n",
    "\"\"So now reduce(). This is actually the one I've always hated most, because, apart from a few examples involving + or *, almost every time I see a reduce() call with a non-trivial function argument, I need to grab pen and paper to diagram what's actually being fed into that function before I understand what the reduce() is supposed to do. So in my mind, the applicability of reduce() is pretty much limited to associative operators, and in all other cases it's better to write out the accumulation loop explicitly.\"Guido Van Rossum March 10, 2005, artima.com"
   ]
  },
  {
   "cell_type": "code",
   "execution_count": null,
   "metadata": {},
   "outputs": [],
   "source": [
    "#this is telling\n",
    "from functools import reduce\n",
    "\n",
    "name = \"Python\"\n",
    "\n",
    "print(reduce(lambda a,b: a + \"_\" + b, name))\n",
    "\n",
    "#math with reduce\n",
    "print(reduce(lambda a,b: a + b, (1,2,3,4,5)))\n",
    "\n"
   ]
  },
  {
   "cell_type": "code",
   "execution_count": null,
   "metadata": {
    "collapsed": true
   },
   "outputs": [],
   "source": []
  }
 ],
 "metadata": {
  "kernelspec": {
   "display_name": "Python 3",
   "language": "python",
   "name": "python3"
  },
  "language_info": {
   "codemirror_mode": {
    "name": "ipython",
    "version": 3
   },
   "file_extension": ".py",
   "mimetype": "text/x-python",
   "name": "python",
   "nbconvert_exporter": "python",
   "pygments_lexer": "ipython3",
   "version": "3.6.3"
  }
 },
 "nbformat": 4,
 "nbformat_minor": 2
}
