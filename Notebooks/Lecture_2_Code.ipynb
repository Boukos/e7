{
 "cells": [
  {
   "cell_type": "markdown",
   "metadata": {},
   "source": [
    "### Escape Sequences"
   ]
  },
  {
   "cell_type": "code",
   "execution_count": 21,
   "metadata": {},
   "outputs": [
    {
     "name": "stdout",
     "output_type": "stream",
     "text": [
      "True\n"
     ]
    }
   ],
   "source": [
    "a = (3 == 3)\n",
    "print (a)"
   ]
  },
  {
   "cell_type": "code",
   "execution_count": null,
   "metadata": {},
   "outputs": [],
   "source": [
    "#Here are some escape sequences\n",
    "a = \"Hello\\nFUGU\\nSHRIMP\"\n",
    "b = 'Hello\\tFUGU\\nSHRIMP' #single quotes work as well \n",
    "print (a,b)\n",
    "#why do you think the output is like this?\n",
    "#try taking the escape sequences to find out\n",
    "\n",
    "#fun one try the \\a"
   ]
  },
  {
   "cell_type": "markdown",
   "metadata": {},
   "source": [
    "### Type Casting"
   ]
  },
  {
   "cell_type": "code",
   "execution_count": null,
   "metadata": {},
   "outputs": [],
   "source": [
    "a = 5 #an integer\n",
    "b = \"Spam\" #a string\n",
    "c = 3.14 #a float\n",
    "d = [1,2,3] #a list\n",
    "e = (1,2,3) #a tuple\n",
    "f = {\"word\":\"Definition\"} # a dictionary\n",
    "\n",
    "#we will talk about lists soon but they are sequences\n",
    "my_list = [a,b,c,d,e,f]\n",
    "#looping\n",
    "for i in my_list:\n",
    "    print(type(i))#we can check the type of each of these with the type function\n"
   ]
  },
  {
   "cell_type": "code",
   "execution_count": 20,
   "metadata": {},
   "outputs": [
    {
     "name": "stdout",
     "output_type": "stream",
     "text": [
      "5.0\n",
      "<class 'str'>\n",
      "5\n"
     ]
    }
   ],
   "source": [
    "g = float(5) #int to float\n",
    "#g = int(c) #float to int\n",
    "#g = float(b) #error attempt non number string to float\n",
    "#g = float(\"3.14\") #succesful string to float\n",
    "print (g)\n",
    "\n",
    "#we can make a string out of numbers easily\n",
    "h =  (str(4567.234234))\n",
    "print (type(h))\n",
    "#print (float(\"asdw\"))\n",
    "a =  (int(5.54))\n",
    "print (a)"
   ]
  },
  {
   "cell_type": "markdown",
   "metadata": {},
   "source": [
    "### Python formatting 2.6, 3.x"
   ]
  },
  {
   "cell_type": "code",
   "execution_count": null,
   "metadata": {},
   "outputs": [],
   "source": [
    "#about %r and what it does\n",
    "#it's like the function repr()\n",
    "import datetime\n",
    "d = datetime.date.today()\n",
    "print (\"%s and how it was made %r\" %(d,d))\n",
    "print (\"%s and how it was made\" %(d) + repr(d))\n",
    "a = \"Spam\"\n",
    "#not that intuitive about what it does\n",
    "print (\"%s and how it was made %r\" %(a,a))\n",
    "\n"
   ]
  },
  {
   "cell_type": "code",
   "execution_count": null,
   "metadata": {},
   "outputs": [],
   "source": [
    "#old school\n",
    "print (\"%s is tasty, I'll get %d cans\"% (\"Spam\",5))\n",
    "#new school\n",
    "print (\"{} is tasty, I'll get {} cans\".format(\"Spam\",5))"
   ]
  },
  {
   "cell_type": "code",
   "execution_count": null,
   "metadata": {},
   "outputs": [],
   "source": [
    "#taking it to the next level\n",
    "#creating placeholder string vars\n",
    "a = \"The TF's love {}\"\n",
    "print (a.format(\"Python 2.x\")) #kinda cool"
   ]
  },
  {
   "cell_type": "code",
   "execution_count": null,
   "metadata": {},
   "outputs": [],
   "source": [
    "#controlling order\n",
    "a= \"At {} we have a Puffer{} named {}\"\n",
    "print (a.format(\"WAVE\",\"fish\",\"FUGU\"))\n",
    "\n",
    "#same as\n",
    "a= \"At {0} we have a Puffer{1} named {2}\"\n",
    "print (a.format(\"WAVE\",\"fish\",\"FUGU\"))"
   ]
  },
  {
   "cell_type": "code",
   "execution_count": 10,
   "metadata": {},
   "outputs": [
    {
     "name": "stdout",
     "output_type": "stream",
     "text": [
      "Per aspera ad astra\n"
     ]
    }
   ],
   "source": [
    "#what if we change these numbers\n",
    "#Per aspera ad astra\n",
    "a= \"Per {1}{0} ad {2}tra\"\n",
    "print (a.format(\"era\",\"asp\",\"as\"))"
   ]
  },
  {
   "cell_type": "code",
   "execution_count": 8,
   "metadata": {},
   "outputs": [
    {
     "name": "stdout",
     "output_type": "stream",
     "text": [
      "At WAVE we have 1.000000 Pufferfish named FUGU\n",
      "Fugu's shrimp eating efficiency is roughly: 30.27%\n",
      "Fugu's shrimp eating efficiency is roughly: 30%\n"
     ]
    }
   ],
   "source": [
    "#type conversions in the formatter\n",
    "a= \"At {0} we have {1:f} Puffer{2} named {3}\"\n",
    "print (a.format(\"WAVE\",1,\"fish\",\"FUGU\"))\n",
    "\n",
    "#we can limit the number of digits of the float\n",
    "#you probably saw this but we just rounded\n",
    "print(\"Fugu's shrimp eating efficiency is roughly: {0:.2f}%\".format(30.26567))\n",
    "#displaying 0 digits\n",
    "print(\"Fugu's shrimp eating efficiency is roughly: {0:.0f}%\".format(30.26567))"
   ]
  },
  {
   "cell_type": "code",
   "execution_count": null,
   "metadata": {},
   "outputs": [],
   "source": [
    "#we can use variables anywhere where we use a value\n",
    "a = \"Fugu\"\n",
    "b = \"Porcupine puffer\"\n",
    "\n",
    "#and we can use some padding\n",
    "#Normal padding try number and string\n",
    "print(\"{0:10} is a {1:20} fish\".format(a,b))\n",
    "#Center \n",
    "print(\"{0:^3} is a {1:20} fish\".format(a,b))\n",
    "#left align and right align\n",
    "print(\"{0:<10} is a {1:<20} fish\".format(a,b))\n",
    "\n"
   ]
  },
  {
   "cell_type": "code",
   "execution_count": null,
   "metadata": {},
   "outputs": [],
   "source": [
    "#no padding <- evil indentation error happened here reported at wrong line\n",
    "for i in range(1,10):\n",
    "    print(i, i*i, i*i*i,i*i*i*i)"
   ]
  },
  {
   "cell_type": "code",
   "execution_count": null,
   "metadata": {},
   "outputs": [],
   "source": [
    "#best used to nicely organize output\n",
    "for i in range(1,10):\n",
    "    print(\"{:5d} {:5d} {:5d}{:6d}\".format(i, i*i, i*i*i,i*i*i*i))"
   ]
  },
  {
   "cell_type": "markdown",
   "metadata": {},
   "source": [
    "### Banker's Rounding Method Test\n",
    "#### Hypothesis: Python 3.x rounding reduces bias assuming that we deal with an equal distribution of odd and even numbers"
   ]
  },
  {
   "cell_type": "code",
   "execution_count": null,
   "metadata": {},
   "outputs": [],
   "source": [
    "#I will use this to generate random numbers\n",
    "import random\n",
    "import math\n",
    "#I make my empty list placeholders for numbers\n",
    "ran_list = []\n",
    "even_list = []\n",
    "odd_list = []"
   ]
  },
  {
   "cell_type": "code",
   "execution_count": null,
   "metadata": {
    "collapsed": true
   },
   "outputs": [],
   "source": [
    "#Populate these lists\n",
    "counter = 0\n",
    "while (counter <11000):\n",
    "    counter += 1\n",
    "    #using the random function to generate some random integers\n",
    "    #within a range\n",
    "    num = random.randint(1,101)  \n",
    "    ran_list.append(num + 0.5)\n",
    "    #int % 2 == 1 is an odd number\n",
    "    #try is 3 % 2 is 2 with a remainder 1 so 3 is odd\n",
    "    #4 % 2 has a remainder 0 2 goes into 4 twice and there is no remainder\n",
    "    if num % 2 is 1:\n",
    "        odd_list.append(num + 0.5)\n",
    "    #if it's not odd than it must be even\n",
    "    else:\n",
    "        even_list.append(num + 0.5)\n",
    "    "
   ]
  },
  {
   "cell_type": "code",
   "execution_count": null,
   "metadata": {},
   "outputs": [],
   "source": [
    "#trim the lists to 5000 numbers\n",
    "#just so we can have equal sized lists\n",
    "ran_list = ran_list[0:5000]\n",
    "even_list = even_list[0:5000]\n",
    "odd_list = odd_list[0:5000]\n",
    "\n",
    "#Create lists that are rounded up we'll take the ceiling\n",
    "round_up_ran_list = [math.ceil(x) for x in ran_list]\n",
    "round_up_even_list = [math.ceil(x) for x in even_list]\n",
    "round_up_odd_list = [math.ceil(x) for x in odd_list]\n",
    "\n",
    "#Creating lists that are Banker rounded py3\n",
    "#your typical python rounding\n",
    "ran_list_py3_round = [round(x) for x in ran_list]\n",
    "even_list_py3_round = [round(x) for x in even_list]\n",
    "odd_list_py3_round = [round(x) for x in odd_list]\n",
    "\n",
    "#if you uncomment this you will get the the first 10 elements\n",
    "#of the round_up_even_list list.\n",
    "#try changing this code to the other list\n",
    "#print (round_up_even_list[0:10])\n",
    "\n",
    "#print (len(ran_list),len(even_list),len(odd_list))\n",
    "# SUM the lists of numbers\n",
    "bias_ran_list =[sum(round_up_ran_list), \n",
    "                 sum(ran_list_py3_round),\n",
    "                 sum(ran_list)]\n",
    "bias_even_list = [sum(round_up_even_list), \n",
    "                  sum(even_list_py3_round),\n",
    "                  sum(even_list)]\n",
    "bias_odd_list = [sum(round_up_odd_list), \n",
    "                 sum(odd_list_py3_round),\n",
    "                 sum(odd_list)]\n",
    "\n",
    "#oh hey notice how I use the formatter.\n",
    "print(\" Random List: {}\\n Even Numbers: {}\\n Odd Numbers: {}\\n\".format(bias_ran_list,bias_even_list,bias_odd_list))\n",
    "print(odd_list[1])\n",
    "\n",
    "#first one is ROUNDING UP, second number PYTHON ROUND, third UNROUNDED SUM\n",
    "\n",
    "\n",
    "\n",
    "   \n",
    "\n",
    "    "
   ]
  },
  {
   "cell_type": "markdown",
   "metadata": {},
   "source": [
    "### Rounding \n",
    "#### A very well-rounded presentation on rounding options\n",
    "##### Remember...due to imprecision rounding can behave seemingly unpredictably\n",
    "##### But if you look under the hood with decimal you can see that it makes sense\n"
   ]
  },
  {
   "cell_type": "code",
   "execution_count": null,
   "metadata": {},
   "outputs": [],
   "source": [
    "import math\n",
    "\n",
    "a = 3.145\n",
    "b = -3.145\n",
    "print (round(a,2))"
   ]
  },
  {
   "cell_type": "code",
   "execution_count": null,
   "metadata": {},
   "outputs": [],
   "source": [
    "#ceiling with 2 decimal digit round\n",
    "#if you don't do this multiplication division magice ceil\n",
    "#will just give you the next integer\n",
    "print (math.ceil((a*100))/100)"
   ]
  },
  {
   "cell_type": "code",
   "execution_count": null,
   "metadata": {},
   "outputs": [],
   "source": [
    "#In case you'd like to take the floor with 2 decimal digits\n",
    "#same thing\n",
    "math.floor((a*100))/100"
   ]
  },
  {
   "cell_type": "code",
   "execution_count": null,
   "metadata": {},
   "outputs": [],
   "source": [
    "math.trunc((a*100))/100\n",
    "#trunc rounds towards 0\n",
    "#dir(math) #This is how we can explore what functions are in a module\n",
    "#help(math.trunc) #this is how we can learn what they do\n",
    "print (math.sqrt(9))"
   ]
  },
  {
   "cell_type": "markdown",
   "metadata": {},
   "source": [
    "### The Float Mystery\n",
    "#### Equality with floats? Don't..."
   ]
  },
  {
   "cell_type": "code",
   "execution_count": null,
   "metadata": {},
   "outputs": [],
   "source": [
    "a = 0.1\n",
    "\n",
    "#of course we can use a anywhere we want 0.1 now\n",
    "\n",
    "print (a + a + a == 0.3)"
   ]
  },
  {
   "cell_type": "code",
   "execution_count": null,
   "metadata": {},
   "outputs": [],
   "source": [
    "print (0.1 + 0.2)"
   ]
  },
  {
   "cell_type": "code",
   "execution_count": null,
   "metadata": {},
   "outputs": [],
   "source": [
    "print (0.1 + 0.1 + 0.1 + 0.1 + 0.1 + 0.1 + 0.1 + 0.1 + 0.1 + 0.1)"
   ]
  },
  {
   "cell_type": "code",
   "execution_count": null,
   "metadata": {},
   "outputs": [],
   "source": [
    "#The value of a is a lie\n",
    "#A convenience provided to you by Python\n",
    "#Python will only pring a decimal approximation to the true decimal value\n",
    "print (a)"
   ]
  },
  {
   "cell_type": "code",
   "execution_count": null,
   "metadata": {},
   "outputs": [],
   "source": [
    "#The true decimal value of the binary approximation stored in memory\n",
    "from decimal import Decimal\n",
    "print (Decimal(a))"
   ]
  },
  {
   "cell_type": "code",
   "execution_count": null,
   "metadata": {},
   "outputs": [],
   "source": [
    "round(2.675, 2)\n",
    "print (Decimal(2.675))"
   ]
  },
  {
   "cell_type": "markdown",
   "metadata": {},
   "source": [
    "### Strings"
   ]
  },
  {
   "cell_type": "code",
   "execution_count": 1,
   "metadata": {},
   "outputs": [
    {
     "name": "stdout",
     "output_type": "stream",
     "text": [
      "Help on built-in function replace:\n",
      "\n",
      "replace(...) method of builtins.str instance\n",
      "    S.replace(old, new[, count]) -> str\n",
      "    \n",
      "    Return a copy of S with all occurrences of substring\n",
      "    old replaced by new.  If the optional argument count is\n",
      "    given, only the first count occurrences are replaced.\n",
      "\n"
     ]
    }
   ],
   "source": [
    "a = \"Spam\"\n",
    "dir(a) #gives us a lot of functions we can apply to this string\n",
    "help(a.replace) #tells us what they do and how to use them"
   ]
  },
  {
   "cell_type": "code",
   "execution_count": null,
   "metadata": {},
   "outputs": [],
   "source": [
    "a = \"Spam\"\n",
    "#dir(a)  #some of the fun things we can do with the string type\n",
    "#help(a.isdigit)\n",
    "\n",
    "#Finding substrings\n",
    "print (a.find(\"pa\"))\n",
    "\n",
    "\n",
    "#replacing substrings\n",
    "print (a.replace(\"p\",\"l\"))\n",
    "print (a) #what happened?\n",
    "\n",
    "#may be useful for pset1\n",
    "b = a.replace(\"p\",\"l\")\n",
    "print (b)\n",
    "\n",
    "a = \"Spam is awesome\"\n",
    "print (a.split(\" \")) #what does this do? Gives you a list back\n",
    "my_list = a.split(\"m\")\n",
    "#you can convert a list back to a string\n",
    "#try changing the \"---\" with a different string\n",
    "#how about an empty string \"\"\n",
    "print (\"---\".join(my_list))\n",
    "#try all the ones in my slides\n",
    "#play with them break things ask questions"
   ]
  },
  {
   "cell_type": "code",
   "execution_count": null,
   "metadata": {},
   "outputs": [],
   "source": [
    "#Hi to the student who asked the slice -2 question\n",
    "#sorry I ran out of time\n",
    "\n",
    "my_string = \"Python is a lot of fun!\"\n",
    "print (my_string[::-1])\n",
    "print (my_string[::-2])\n",
    "#crazy right?\n",
    "#best to understand this is to do it as a positive number\n",
    "print (my_string[::2])\n",
    "\n",
    "#this means from the begining to the end with a STEP 2\n",
    "#every 2nd character is skipped\n",
    "#now look at the reverse with the -2\n",
    "#this can be useful for the homework that will ask you to\n",
    "#do something for every n-th character\n",
    "#try every 3rd character"
   ]
  },
  {
   "cell_type": "code",
   "execution_count": null,
   "metadata": {},
   "outputs": [],
   "source": [
    "#check if character is number or in alphabet\n",
    "b = \"1 Spam Please\"\n",
    "print (a[0].isalpha())\n",
    "print (b[0].isalpha())"
   ]
  },
  {
   "cell_type": "markdown",
   "metadata": {},
   "source": [
    "### Logic"
   ]
  },
  {
   "cell_type": "code",
   "execution_count": null,
   "metadata": {},
   "outputs": [],
   "source": [
    "#no spaces just tabs\n",
    "#or shift+tabs to go back\n",
    "a = 5\n",
    "b = 5\n",
    "c = 6\n",
    "d = \".1Spam\" #try removing the dot\n",
    "#we know that d[0] is because at index 0 we have \"1\"\n",
    "#the line bellow is the same as :\n",
    "# if \"1\".isalpha()\n",
    "# you can try changing \"1\" and feeding the function with a letter\n",
    "if d[0].isnumeric():\n",
    "    print (\"Hey that's a number\")\n",
    "elif d[0].isalpha():\n",
    "    print (\"Hey that looks like a letter\")\n",
    "else:\n",
    "    print (\"This must be some special character\")\n",
    "    \n",
    "#indent with tab\n",
    "#unindent with shift tab\n",
    "#when we use and everything must evaluate to True\n",
    "#when we use or at least one has to evaluate to True \n",
    "if (a == c) and (a == b) and (a == b):\n",
    "    print (\"Yeah these are equal\")\n",
    "    print (a,b)\n",
    "else:\n",
    "    print (\"Nope these are not equal\")\n",
    "    \n",
    "if 2 == 3:\n",
    "    print (\"great\")"
   ]
  },
  {
   "cell_type": "markdown",
   "metadata": {},
   "source": [
    "### Loop"
   ]
  },
  {
   "cell_type": "code",
   "execution_count": 18,
   "metadata": {},
   "outputs": [
    {
     "name": "stdout",
     "output_type": "stream",
     "text": [
      "2\n"
     ]
    }
   ],
   "source": [
    "#where letter can be any variable name you decide\n",
    "#some fun ones are : i, my_char, mini_str etc.\n",
    "#try changing letter to something else\n",
    "#try changing the sentence\n",
    "#note that letter has to be changed everywhere\n",
    "name = \"Finding Dory\"\n",
    "b = 0\n",
    "for letter in name:\n",
    "    if letter.isupper():\n",
    "        b += 1\n",
    "print (b)\n"
   ]
  },
  {
   "cell_type": "code",
   "execution_count": null,
   "metadata": {
    "collapsed": true
   },
   "outputs": [],
   "source": []
  }
 ],
 "metadata": {
  "anaconda-cloud": {},
  "kernelspec": {
   "display_name": "Python 3",
   "language": "python",
   "name": "python3"
  },
  "language_info": {
   "codemirror_mode": {
    "name": "ipython",
    "version": 3
   },
   "file_extension": ".py",
   "mimetype": "text/x-python",
   "name": "python",
   "nbconvert_exporter": "python",
   "pygments_lexer": "ipython3",
   "version": "3.6.3"
  }
 },
 "nbformat": 4,
 "nbformat_minor": 1
}
