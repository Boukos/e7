{
 "cells": [
  {
   "cell_type": "markdown",
   "metadata": {},
   "source": [
    "### Making sets out of sets"
   ]
  },
  {
   "cell_type": "code",
   "execution_count": 3,
   "metadata": {
    "collapsed": false
   },
   "outputs": [
    {
     "data": {
      "text/plain": [
       "{frozenset({5, 6}), 4}"
      ]
     },
     "execution_count": 3,
     "metadata": {},
     "output_type": "execute_result"
    }
   ],
   "source": [
    "data = [frozenset({5,6}),4,frozenset({5,6})]\n",
    "set(data)"
   ]
  },
  {
   "cell_type": "code",
   "execution_count": 9,
   "metadata": {
    "collapsed": false
   },
   "outputs": [
    {
     "name": "stdout",
     "output_type": "stream",
     "text": [
      "False\n"
     ]
    }
   ],
   "source": [
    "a = \"You Rock\"\n",
    "b = \"You Rock\"\n",
    "print (a is b)"
   ]
  },
  {
   "cell_type": "markdown",
   "metadata": {},
   "source": [
    "### BIG O NOTATION DEMO"
   ]
  },
  {
   "cell_type": "code",
   "execution_count": 63,
   "metadata": {
    "collapsed": false
   },
   "outputs": [
    {
     "name": "stdout",
     "output_type": "stream",
     "text": [
      "41312250020\n",
      "40500000000\n",
      "810000000\n",
      "2250000\n",
      "20\n",
      "8100000000\n"
     ]
    }
   ],
   "source": [
    "def calculations(n):\n",
    "    \"\"\"\n",
    "    Why O(n^4)\n",
    "    Coefficients and lower order terms are ignored\n",
    "    \"\"\"\n",
    "    print ((5 * n **4) + (30 * n ** 3) + (25 * n ** 2) + 20)\n",
    "    print (5 * n **4)\n",
    "    print (30 * n **3)\n",
    "    print (25 * n **2)\n",
    "    print (20)\n",
    "    print (n**4)\n",
    "    \n",
    "calculations(300)"
   ]
  },
  {
   "cell_type": "markdown",
   "metadata": {},
   "source": [
    "### Initialized Parameters"
   ]
  },
  {
   "cell_type": "code",
   "execution_count": 11,
   "metadata": {
    "collapsed": false
   },
   "outputs": [
    {
     "ename": "SyntaxError",
     "evalue": "non-default argument follows default argument (<ipython-input-11-940e25cdff8b>, line 1)",
     "output_type": "error",
     "traceback": [
      "\u001b[0;36m  File \u001b[0;32m\"<ipython-input-11-940e25cdff8b>\"\u001b[0;36m, line \u001b[0;32m1\u001b[0m\n\u001b[0;31m    def sumit(x = 5, y = 6,z):\u001b[0m\n\u001b[0m             ^\u001b[0m\n\u001b[0;31mSyntaxError\u001b[0m\u001b[0;31m:\u001b[0m non-default argument follows default argument\n"
     ]
    }
   ],
   "source": [
    "def sumit(x = 5, y = 6,z):\n",
    "    return x + y + z\n",
    "\n",
    "print (sumit(3,3,4))"
   ]
  },
  {
   "cell_type": "markdown",
   "metadata": {},
   "source": [
    "Insertion Sort"
   ]
  },
  {
   "cell_type": "code",
   "execution_count": 51,
   "metadata": {
    "collapsed": false
   },
   "outputs": [
    {
     "name": "stdout",
     "output_type": "stream",
     "text": [
      "[1, 2, 3, 5, 6, 7]\n"
     ]
    }
   ],
   "source": [
    "def insertion_Sort(my_list):\n",
    "    \"\"\"\n",
    "    Uses The Insertion Sort Algorithm\n",
    "    To Sort a List given an unsorted list as input\n",
    "    \"\"\"\n",
    "   #we start at position 1\n",
    "    for i in range(1,len(my_list)):\n",
    "        element_to_move = my_list[i]\n",
    "        position = i\n",
    "        #iterate through the sorted portion right to left\n",
    "        #stop when value is smaller than element_to_move\n",
    "        #keep going while it's larger\n",
    "        while (position > 0) and (my_list[position - 1] > element_to_move):\n",
    "            my_list[position] = my_list[position-1]\n",
    "            position -= 1\n",
    "        my_list[position] = element_to_move\n",
    "\n",
    "a = [3,2,1,5,7,6]\n",
    "insertion_Sort(a)\n",
    "print(a)"
   ]
  }
 ],
 "metadata": {
  "kernelspec": {
   "display_name": "Python 3",
   "language": "python",
   "name": "python3"
  },
  "language_info": {
   "codemirror_mode": {
    "name": "ipython",
    "version": 3
   },
   "file_extension": ".py",
   "mimetype": "text/x-python",
   "name": "python",
   "nbconvert_exporter": "python",
   "pygments_lexer": "ipython3",
   "version": "3.6.0"
  }
 },
 "nbformat": 4,
 "nbformat_minor": 2
}
