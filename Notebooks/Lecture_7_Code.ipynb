{
 "cells": [
  {
   "cell_type": "markdown",
   "metadata": {},
   "source": [
    "### Review: Void and Returning function differences"
   ]
  },
  {
   "cell_type": "code",
   "execution_count": null,
   "metadata": {
    "collapsed": false
   },
   "outputs": [],
   "source": [
    "#A None-returning or Void function\n",
    "def printer (n):\n",
    "    print (\"A Printer Prints:\",n)\n",
    "    \n",
    "a = printer(5)\n",
    "print (type(a),a)\n",
    "\n",
    "#A function that returns\n",
    "def returner (n):\n",
    "    return (n)\n",
    "\n",
    "b = returner(5)\n",
    "print (type(b),b)\n",
    "\n",
    "def summarizer (a,b,c):\n",
    "    \"\"\"\n",
    "    Sums 3 numbers\n",
    "    Returns sum\n",
    "    \"\"\"\n",
    "    result = sum([a,b,c])\n",
    "    return result\n",
    "\n",
    "c = summarizer(1,2,3)\n",
    "print (type(c),c)\n"
   ]
  },
  {
   "cell_type": "markdown",
   "metadata": {},
   "source": [
    "### Functions can call other functions\n",
    "#### Exploring the stack"
   ]
  },
  {
   "cell_type": "code",
   "execution_count": 62,
   "metadata": {
    "collapsed": false
   },
   "outputs": [
    {
     "name": "stdout",
     "output_type": "stream",
     "text": [
      "http://www.hooli.xyz/\n",
      "http://www.piedpiper.com/\n",
      "http://www.coderag.com/\n",
      "25\n",
      "Done\n",
      "Go back to Lecture Slides\n"
     ]
    }
   ],
   "source": [
    "def hooli():\n",
    "    print (\"http://www.hooli.xyz/\")\n",
    "def piedpiper():\n",
    "    hooli()\n",
    "    print (\"http://www.piedpiper.com/\")\n",
    "def coderag(n):\n",
    "    piedpiper()\n",
    "    print (\"http://www.coderag.com/\")\n",
    "    print (n*n)\n",
    "    \n",
    "coderag(5)\n",
    "print (\"Done\")\n",
    "print (\"Go back to Lecture Slides\")"
   ]
  },
  {
   "cell_type": "markdown",
   "metadata": {},
   "source": [
    "### Matryoshka Height: Recursion\n",
    "### Matryoshka 1 = 3cm tall\n",
    "### Each next one is 2 cm taller\n",
    "#### The height of the smallest one is 1 cm"
   ]
  },
  {
   "cell_type": "code",
   "execution_count": 13,
   "metadata": {
    "collapsed": false
   },
   "outputs": [
    {
     "name": "stdout",
     "output_type": "stream",
     "text": [
      "4\n",
      "3\n",
      "2\n",
      "ykS\n"
     ]
    }
   ],
   "source": [
    "def length(n):\n",
    "    if n == 1:\n",
    "        return 1\n",
    "    else:\n",
    "        print (n)\n",
    "        return 3 + length(n-1)\n",
    "    \n",
    "length(4)\n",
    "\n",
    "word = \"Sky\"\n",
    "print (word[::-1])\n"
   ]
  },
  {
   "cell_type": "markdown",
   "metadata": {},
   "source": [
    "### Iterative"
   ]
  },
  {
   "cell_type": "code",
   "execution_count": 67,
   "metadata": {
    "collapsed": false
   },
   "outputs": [
    {
     "data": {
      "text/plain": [
       "5"
      ]
     },
     "execution_count": 67,
     "metadata": {},
     "output_type": "execute_result"
    }
   ],
   "source": [
    "def height(n):\n",
    "    count = 0\n",
    "    small = 1\n",
    "    while (n > 1):\n",
    "        n -= 1\n",
    "        count +=1\n",
    "      \n",
    "    return small + count*2\n",
    "   \n",
    "height(3)"
   ]
  },
  {
   "cell_type": "markdown",
   "metadata": {},
   "source": [
    "### Iterative Factorial Functions"
   ]
  },
  {
   "cell_type": "code",
   "execution_count": 73,
   "metadata": {
    "collapsed": false
   },
   "outputs": [
    {
     "name": "stdout",
     "output_type": "stream",
     "text": [
      "6\n",
      "6\n"
     ]
    }
   ],
   "source": [
    "def fact1(n):\n",
    "    \"\"\"\n",
    "    Calculatesw Factorial Iteratively\n",
    "    while loop\n",
    "    \"\"\"\n",
    "    prod = n\n",
    "    while (n > 1):\n",
    "        n -= 1\n",
    "        prod *= n\n",
    "    return prod\n",
    "\n",
    "def fact2(n):\n",
    "    \"\"\"\n",
    "    Calculates Factorial Iteratively\n",
    "    for loop\n",
    "    \"\"\"\n",
    "    prod = n\n",
    "    for i in reversed(range(1,n)):\n",
    "        prod *=i\n",
    "    return prod\n",
    "\n",
    "print (fact1(3))\n",
    "print (fact2(3))"
   ]
  },
  {
   "cell_type": "markdown",
   "metadata": {},
   "source": [
    "### Recursive Factorial Function"
   ]
  },
  {
   "cell_type": "code",
   "execution_count": 80,
   "metadata": {
    "collapsed": false
   },
   "outputs": [
    {
     "ename": "ValueError",
     "evalue": "factorial() not defined for negative values",
     "output_type": "error",
     "traceback": [
      "\u001b[0;31m---------------------------------------------------------------------------\u001b[0m",
      "\u001b[0;31mValueError\u001b[0m                                Traceback (most recent call last)",
      "\u001b[0;32m<ipython-input-80-206cc9b8d177>\u001b[0m in \u001b[0;36m<module>\u001b[0;34m()\u001b[0m\n\u001b[1;32m      1\u001b[0m \u001b[0;32mfrom\u001b[0m \u001b[0mmath\u001b[0m \u001b[0;32mimport\u001b[0m \u001b[0mfactorial\u001b[0m\u001b[0;34m\u001b[0m\u001b[0m\n\u001b[1;32m      2\u001b[0m \u001b[0;34m\u001b[0m\u001b[0m\n\u001b[0;32m----> 3\u001b[0;31m \u001b[0mprint\u001b[0m \u001b[0;34m(\u001b[0m\u001b[0mfactorial\u001b[0m\u001b[0;34m(\u001b[0m\u001b[0;34m-\u001b[0m\u001b[0;36m1\u001b[0m\u001b[0;34m)\u001b[0m\u001b[0;34m)\u001b[0m\u001b[0;34m\u001b[0m\u001b[0m\n\u001b[0m\u001b[1;32m      4\u001b[0m \u001b[0;34m\u001b[0m\u001b[0m\n\u001b[1;32m      5\u001b[0m \u001b[0;32mdef\u001b[0m \u001b[0mfact3\u001b[0m\u001b[0;34m(\u001b[0m\u001b[0mn\u001b[0m\u001b[0;34m)\u001b[0m\u001b[0;34m:\u001b[0m\u001b[0;34m\u001b[0m\u001b[0m\n",
      "\u001b[0;31mValueError\u001b[0m: factorial() not defined for negative values"
     ]
    }
   ],
   "source": [
    "from math import factorial\n",
    "import math\n",
    "\n",
    "np\n",
    "pd\n",
    "\n",
    "\n",
    "\n",
    "math.factorial\n",
    "\n",
    "\n",
    "print (factorial(-1))\n",
    "\n",
    "def fact3(n):\n",
    "    \"\"\"\n",
    "    Recursively calculates n!\n",
    "    \"\"\"\n",
    "    #Base Case\n",
    "    if n == 1:\n",
    "        return 1\n",
    "    #Recursive Case\n",
    "    else:\n",
    "        return n * fact3(n-1)\n",
    "    \n",
    "print (fact3(5))"
   ]
  },
  {
   "cell_type": "markdown",
   "metadata": {},
   "source": [
    "### Recursive List Sum Function"
   ]
  },
  {
   "cell_type": "code",
   "execution_count": 5,
   "metadata": {
    "collapsed": false
   },
   "outputs": [
    {
     "name": "stdout",
     "output_type": "stream",
     "text": [
      "1\n",
      "2\n",
      "3\n",
      "6\n"
     ]
    },
    {
     "ename": "NameError",
     "evalue": "name 'l' is not defined",
     "output_type": "error",
     "traceback": [
      "\u001b[0;31m---------------------------------------------------------------------------\u001b[0m",
      "\u001b[0;31mNameError\u001b[0m                                 Traceback (most recent call last)",
      "\u001b[0;32m<ipython-input-5-9be2f1f06d4a>\u001b[0m in \u001b[0;36m<module>\u001b[0;34m()\u001b[0m\n\u001b[1;32m     14\u001b[0m \u001b[0;31m#WE ARE TRYING TO SLICE AT OFFSET THAT DOESN'T EXIST\u001b[0m\u001b[0;34m\u001b[0m\u001b[0;34m\u001b[0m\u001b[0m\n\u001b[1;32m     15\u001b[0m \u001b[0;31m#l = [4,5], 4+5 = 9\u001b[0m\u001b[0;34m\u001b[0m\u001b[0;34m\u001b[0m\u001b[0m\n\u001b[0;32m---> 16\u001b[0;31m \u001b[0mprint\u001b[0m \u001b[0;34m(\u001b[0m\u001b[0ml\u001b[0m\u001b[0;34m[\u001b[0m\u001b[0;36m4\u001b[0m\u001b[0;34m:\u001b[0m\u001b[0;34m]\u001b[0m\u001b[0;34m)\u001b[0m\u001b[0;34m\u001b[0m\u001b[0m\n\u001b[0m\u001b[1;32m     17\u001b[0m \u001b[0mmyList\u001b[0m\u001b[0;34m[\u001b[0m\u001b[0;36m0\u001b[0m\u001b[0;34m]\u001b[0m\u001b[0;34m\u001b[0m\u001b[0m\n\u001b[1;32m     18\u001b[0m \u001b[0;31m#[1:]\u001b[0m\u001b[0;34m\u001b[0m\u001b[0;34m\u001b[0m\u001b[0m\n",
      "\u001b[0;31mNameError\u001b[0m: name 'l' is not defined"
     ]
    }
   ],
   "source": [
    "def sumIt(myList):\n",
    "    \"\"\"\n",
    "    Recursively returns a sum given a list of numbers\n",
    "    \"\"\"\n",
    "    if (myList==[]):\n",
    "        return 0\n",
    "    else:\n",
    "        print(myList[0])\n",
    "        return myList[0] + sumIt(myList[1:])\n",
    "    \n",
    "print (sumIt([1,2,3]))\n",
    "\n",
    "#QUESTION: WHY DO WE NOT GET AN ERROR HERE?\n",
    "#WE ARE TRYING TO SLICE AT OFFSET THAT DOESN'T EXIST\n",
    "#l = [4,5], 4+5 = 9\n",
    "print (l[4:])\n",
    "myList[0]\n",
    "#[1:]\n",
    "#[5],5 5 + 0 \n",
    "#[]"
   ]
  },
  {
   "cell_type": "code",
   "execution_count": 1,
   "metadata": {
    "collapsed": false
   },
   "outputs": [
    {
     "name": "stdout",
     "output_type": "stream",
     "text": [
      "CSCI E-7 Code\n"
     ]
    }
   ],
   "source": [
    "import my_bio"
   ]
  },
  {
   "cell_type": "code",
   "execution_count": 2,
   "metadata": {
    "collapsed": false
   },
   "outputs": [
    {
     "name": "stdout",
     "output_type": "stream",
     "text": [
      "The Zen of Python, by Tim Peters\n",
      "\n",
      "Beautiful is better than ugly.\n",
      "Explicit is better than implicit.\n",
      "Simple is better than complex.\n",
      "Complex is better than complicated.\n",
      "Flat is better than nested.\n",
      "Sparse is better than dense.\n",
      "Readability counts.\n",
      "Special cases aren't special enough to break the rules.\n",
      "Although practicality beats purity.\n",
      "Errors should never pass silently.\n",
      "Unless explicitly silenced.\n",
      "In the face of ambiguity, refuse the temptation to guess.\n",
      "There should be one-- and preferably only one --obvious way to do it.\n",
      "Although that way may not be obvious at first unless you're Dutch.\n",
      "Now is better than never.\n",
      "Although never is often better than *right* now.\n",
      "If the implementation is hard to explain, it's a bad idea.\n",
      "If the implementation is easy to explain, it may be a good idea.\n",
      "Namespaces are one honking great idea -- let's do more of those!\n"
     ]
    }
   ],
   "source": [
    "import this"
   ]
  },
  {
   "cell_type": "markdown",
   "metadata": {},
   "source": [
    "### dir returns the attributes of a module or object"
   ]
  },
  {
   "cell_type": "code",
   "execution_count": 3,
   "metadata": {
    "collapsed": false
   },
   "outputs": [
    {
     "data": {
      "text/plain": [
       "['__builtins__',\n",
       " '__cached__',\n",
       " '__doc__',\n",
       " '__file__',\n",
       " '__loader__',\n",
       " '__name__',\n",
       " '__package__',\n",
       " '__spec__',\n",
       " 'd',\n",
       " 'label',\n",
       " 'nmers',\n",
       " 'reverseComplement']"
      ]
     },
     "execution_count": 3,
     "metadata": {},
     "output_type": "execute_result"
    }
   ],
   "source": [
    "dir(my_bio)"
   ]
  },
  {
   "cell_type": "markdown",
   "metadata": {},
   "source": [
    "### This is how we access the docstring\n",
    "this is how you can learn what a function does\n",
    "\n",
    "remember \"\"\" is not for commenting things out!\n",
    "\n",
    "I prefer help, but you can use doc as well"
   ]
  },
  {
   "cell_type": "code",
   "execution_count": 4,
   "metadata": {
    "collapsed": false
   },
   "outputs": [
    {
     "name": "stdout",
     "output_type": "stream",
     "text": [
      "\n",
      "    Returns all possible nMers of a sequence\n",
      "    \n"
     ]
    }
   ],
   "source": [
    "print (my_bio.nmers.__doc__)"
   ]
  },
  {
   "cell_type": "code",
   "execution_count": 5,
   "metadata": {
    "collapsed": false
   },
   "outputs": [
    {
     "name": "stdout",
     "output_type": "stream",
     "text": [
      "Help on function nmers in module my_bio:\n",
      "\n",
      "nmers(seq, n)\n",
      "    Returns all possible nMers of a sequence\n",
      "\n"
     ]
    }
   ],
   "source": [
    "help(my_bio.nmers)"
   ]
  },
  {
   "cell_type": "code",
   "execution_count": 71,
   "metadata": {
    "collapsed": false
   },
   "outputs": [
    {
     "name": "stdout",
     "output_type": "stream",
     "text": [
      "Help on built-in function setrecursionlimit in module sys:\n",
      "\n",
      "setrecursionlimit(...)\n",
      "    setrecursionlimit(n)\n",
      "    \n",
      "    Set the maximum depth of the Python interpreter stack to n.  This\n",
      "    limit prevents infinite recursion from causing an overflow of the C\n",
      "    stack and crashing Python.  The highest possible limit is platform-\n",
      "    dependent.\n",
      "\n"
     ]
    }
   ],
   "source": [
    "import sys\n",
    "#default is 1000 depth\n",
    "#max is platform dependent\n",
    "help(sys.setrecursionlimit)"
   ]
  },
  {
   "cell_type": "code",
   "execution_count": 69,
   "metadata": {
    "collapsed": false
   },
   "outputs": [
    {
     "data": {
      "text/plain": [
       "1000"
      ]
     },
     "execution_count": 69,
     "metadata": {},
     "output_type": "execute_result"
    }
   ],
   "source": [
    "sys.getrecursionlimit()\n",
    "\n",
    "#def stack():\n",
    "#    stack()\n",
    "\n",
    "#stack()"
   ]
  },
  {
   "cell_type": "code",
   "execution_count": 70,
   "metadata": {
    "collapsed": false
   },
   "outputs": [
    {
     "name": "stdout",
     "output_type": "stream",
     "text": [
      "Help on built-in function getrecursionlimit in module sys:\n",
      "\n",
      "getrecursionlimit(...)\n",
      "    getrecursionlimit()\n",
      "    \n",
      "    Return the current value of the recursion limit, the maximum depth\n",
      "    of the Python interpreter stack.  This limit prevents infinite\n",
      "    recursion from causing an overflow of the C stack and crashing Python.\n",
      "\n"
     ]
    }
   ],
   "source": [
    "help(sys.getrecursionlimit)"
   ]
  },
  {
   "cell_type": "markdown",
   "metadata": {},
   "source": [
    "## Pickles!\n",
    "### Store your progress, store your data structure, store your data types."
   ]
  },
  {
   "cell_type": "code",
   "execution_count": 81,
   "metadata": {
    "collapsed": false
   },
   "outputs": [
    {
     "name": "stdout",
     "output_type": "stream",
     "text": [
      "['Spam', {'name': 'FUGU'}]\n",
      "Proof that it's empty:  []\n",
      "We loaded it from the first.pickle file: ['Spam', {'name': 'FUGU'}]\n"
     ]
    }
   ],
   "source": [
    "d = {\"name\":\"FUGU\"}\n",
    "my_list = [\"Spam\",d]\n",
    "print (my_list)\n",
    "\n",
    "import pickle\n",
    "with open('first.pickle', 'wb') as f:\n",
    "    pickle.dump(my_list, f)\n",
    "        \n",
    "#Let's make my_list refer to some empty list now\n",
    "my_list = []\n",
    "print (\"Proof that it's empty: \", my_list) #yup it's empty at this point\n",
    "\n",
    "#now let's load the pickle file\n",
    "\n",
    "with open('first.pickle', 'rb') as f:\n",
    "    my_list = pickle.load(f) \n",
    "print (\"We loaded it from the first.pickle file:\",my_list)\n",
    "        \n"
   ]
  },
  {
   "cell_type": "markdown",
   "metadata": {},
   "source": [
    "### Fileless pickling\n",
    "##### It exists on the stack while your program is running"
   ]
  },
  {
   "cell_type": "code",
   "execution_count": null,
   "metadata": {
    "collapsed": false
   },
   "outputs": [],
   "source": [
    " a = pickle.dumps(my_list)\n",
    "\n",
    "#then you do some kind of code here\n",
    "\n",
    "unpickled_list = pickle.loads(a)\n",
    "print (unpickled_list)"
   ]
  },
  {
   "cell_type": "code",
   "execution_count": null,
   "metadata": {
    "collapsed": true
   },
   "outputs": [],
   "source": []
  }
 ],
 "metadata": {
  "kernelspec": {
   "display_name": "Python 3",
   "language": "python",
   "name": "python3"
  },
  "language_info": {
   "codemirror_mode": {
    "name": "ipython",
    "version": 3
   },
   "file_extension": ".py",
   "mimetype": "text/x-python",
   "name": "python",
   "nbconvert_exporter": "python",
   "pygments_lexer": "ipython3",
   "version": "3.6.0"
  }
 },
 "nbformat": 4,
 "nbformat_minor": 2
}
