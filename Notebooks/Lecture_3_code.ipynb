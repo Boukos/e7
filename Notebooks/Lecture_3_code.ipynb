{
 "cells": [
  {
   "cell_type": "markdown",
   "metadata": {},
   "source": [
    "### Loops"
   ]
  },
  {
   "cell_type": "markdown",
   "metadata": {},
   "source": [
    "#### The While Loop"
   ]
  },
  {
   "cell_type": "code",
   "execution_count": 29,
   "metadata": {},
   "outputs": [
    {
     "name": "stdout",
     "output_type": "stream",
     "text": [
      "9\n",
      "True\n",
      "False\n"
     ]
    }
   ],
   "source": [
    "company_name = \"PiedPiper\"\n",
    "print (len(company_name))\n",
    "print (0 < 10)\n",
    "print (10 < 10)"
   ]
  },
  {
   "cell_type": "code",
   "execution_count": 31,
   "metadata": {},
   "outputs": [
    {
     "name": "stdout",
     "output_type": "stream",
     "text": [
      "No it was Upper Case\n",
      "No it was Upper Case\n",
      "Ok we are outside of the loop\n",
      "iediper\n"
     ]
    }
   ],
   "source": [
    "position = 0\n",
    "lower_case_collector = \"\" #empty string\n",
    "\n",
    "while (position < len(company_name)):\n",
    "    \n",
    "    if (company_name[position].islower()):\n",
    "        lower_case_collector += company_name[position]\n",
    "    else:\n",
    "        print (\"No it was Upper Case\")\n",
    "        \n",
    "    position += 1\n",
    "\n",
    "print (\"Ok we are outside of the loop\")\n",
    "print (lower_case_collector)"
   ]
  },
  {
   "cell_type": "markdown",
   "metadata": {
    "collapsed": true
   },
   "source": [
    "#### The For Loop"
   ]
  },
  {
   "cell_type": "code",
   "execution_count": 34,
   "metadata": {},
   "outputs": [
    {
     "name": "stdout",
     "output_type": "stream",
     "text": [
      "Hey I got an A\n",
      "A\n",
      "v\n",
      "i\n",
      "a\n",
      "T\n",
      "o\n",
      "Hey I got an A\n",
      "A\n",
      "Hey I got an A\n",
      "A\n",
      "Ok we are outside of the loop\n"
     ]
    }
   ],
   "source": [
    "company_name = (\"AviaToAA\")\n",
    "\n",
    "for letter in company_name:\n",
    "    if letter == \"A\":\n",
    "        print (\"Hey I got an A\")\n",
    "    print (letter)\n",
    "\n",
    "\n",
    "print (\"Ok we are outside of the loop\")"
   ]
  },
  {
   "cell_type": "code",
   "execution_count": 4,
   "metadata": {},
   "outputs": [
    {
     "name": "stdout",
     "output_type": "stream",
     "text": [
      "aviATO \n",
      "A\n",
      "It's also in name1\n",
      "v\n",
      "It's also in name1\n",
      "i\n",
      "It's also in name1\n",
      "a\n",
      "It's also in name1\n",
      "t\n",
      "Didn't find it in name1\n",
      "o\n",
      "Didn't find it in name1\n"
     ]
    }
   ],
   "source": [
    "name = \"Aviato\"\n",
    "name1 = \"avi  ATO.\"\n",
    "\n",
    "name2 = name1.replace(\" \", \"\").replace(\".\",\" \")\n",
    "print (name2)\n",
    "\n",
    "\n",
    "for i in name:\n",
    "    print (i)\n",
    "    if i in name1:\n",
    "        print (\"It's also in name1\")\n",
    "    else:\n",
    "        print (\"Didn't find it in name1\")\n"
   ]
  },
  {
   "cell_type": "code",
   "execution_count": 3,
   "metadata": {},
   "outputs": [
    {
     "name": "stdout",
     "output_type": "stream",
     "text": [
      "3.0\n",
      "3.0\n",
      "[[ 0  1  2  3]\n",
      " [ 4  5  6  7]\n",
      " [ 8  9 10 11]]\n"
     ]
    }
   ],
   "source": [
    "#this is how we import a module\n",
    "import math\n",
    "print (math.sqrt(9))\n",
    "\n",
    "#for bulky ones we can only import what we want\n",
    "#notice that since we imported directly we don't need the math.\n",
    "#we can access the function name directly now\n",
    "from math import sqrt\n",
    "print (sqrt(9))\n",
    "\n",
    "#if it has some long and inconvenient name or you use it a lot\n",
    "#you can rename it\n",
    "#be aware that there is convention for this\n",
    "#i.e. for pandas it's pd for numpy it is np\n",
    "import numpy as np\n",
    "a = np.arange(12).reshape(3, 4)\n",
    "print (a)\n",
    "\n",
    "#however somet things can be n"
   ]
  },
  {
   "cell_type": "code",
   "execution_count": 7,
   "metadata": {},
   "outputs": [
    {
     "name": "stdout",
     "output_type": "stream",
     "text": [
      "We're no strangers to love\n",
      "You know the rules and so do I\n",
      "A full commitment's what I'm thinking of\n",
      "You wouldn't get this from any other guy\n",
      "\n",
      "I just want to tell you how I'm feeling\n",
      "Gotta make you understand\n",
      "\n",
      "Never gonna give you up, never gonna let you down\n",
      "Never gonna run around and desert you\n",
      "Never gonna make you cry, never gonna say goodbye\n",
      "Never gonna tell a lie and hurt you\n",
      "\n",
      "We're no strangers to love\n",
      "You know the rules and so do I\n",
      "A full commitment's what I'm thinking of\n",
      "You wouldn't get this from any other guy\n",
      "\n",
      "I just want to tell you how I'm feeling\n",
      "Gotta make you understand\n",
      "\n",
      "Never gonna give you up, never gonna let you down\n",
      "Never gonna run around and desert you\n",
      "Never gonna make you cry, never gonna say goodbye\n",
      "Never gonna tell a lie and hurt you\n",
      "\n"
     ]
    }
   ],
   "source": [
    "#a void function\n",
    "def got_you_again(times):\n",
    "    while times < 2:\n",
    "        print (\"We're no strangers to love\\n\"\n",
    "               \"You know the rules and so do I\\n\"\n",
    "               \"A full commitment's what I'm thinking of\\n\"\n",
    "               \"You wouldn't get this from any other guy\\n\\n\"\n",
    "               \"I just want to tell you how I'm feeling\\n\"\n",
    "               \"Gotta make you understand\\n\\n\"\n",
    "               \"Never gonna give you up, never gonna let you down\\n\"\n",
    "               \"Never gonna run around and desert you\\n\"\n",
    "               \"Never gonna make you cry, never gonna say goodbye\\n\"\n",
    "               \"Never gonna tell a lie and hurt you\\n\")\n",
    "        times += 1\n",
    "    \n",
    "got_you_again(0)"
   ]
  },
  {
   "cell_type": "code",
   "execution_count": 8,
   "metadata": {},
   "outputs": [
    {
     "name": "stdout",
     "output_type": "stream",
     "text": [
      "10\n"
     ]
    }
   ],
   "source": [
    "#fruitful function or one that returns\n",
    "def times_2(my_number):\n",
    "    return my_number * 2\n",
    "\n",
    "print (times_2(5))"
   ]
  },
  {
   "cell_type": "code",
   "execution_count": null,
   "metadata": {
    "collapsed": true
   },
   "outputs": [],
   "source": []
  }
 ],
 "metadata": {
  "anaconda-cloud": {},
  "kernelspec": {
   "display_name": "Python 3",
   "language": "python",
   "name": "python3"
  },
  "language_info": {
   "codemirror_mode": {
    "name": "ipython",
    "version": 3
   },
   "file_extension": ".py",
   "mimetype": "text/x-python",
   "name": "python",
   "nbconvert_exporter": "python",
   "pygments_lexer": "ipython3",
   "version": "3.6.3"
  }
 },
 "nbformat": 4,
 "nbformat_minor": 1
}
