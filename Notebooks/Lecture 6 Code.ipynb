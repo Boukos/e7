{
 "cells": [
  {
   "cell_type": "markdown",
   "metadata": {},
   "source": [
    "### Shuffling a list"
   ]
  },
  {
   "cell_type": "code",
   "execution_count": 45,
   "metadata": {
    "collapsed": false
   },
   "outputs": [
    {
     "name": "stdout",
     "output_type": "stream",
     "text": [
      "[1, 3, 'Joe', 4, 'Ken']\n"
     ]
    }
   ],
   "source": [
    "### Bogo style  :)\n",
    "# The random module is very interesting you should explore it\n",
    "import random\n",
    "x = [1, \"Joe\", \"Ken\", 3, 4]\n",
    "random.shuffle(x)\n",
    "print (x)"
   ]
  },
  {
   "cell_type": "markdown",
   "metadata": {},
   "source": [
    "## Dictionaries Part 2\n",
    "### Dictionary Comprehensions\n",
    "#### Example 1: Squares"
   ]
  },
  {
   "cell_type": "code",
   "execution_count": 5,
   "metadata": {
    "collapsed": false
   },
   "outputs": [
    {
     "name": "stdout",
     "output_type": "stream",
     "text": [
      "{3: 9, 6: 36}\n"
     ]
    }
   ],
   "source": [
    "#dictionary comprehensions are new to Python 3\n",
    "#they work similarly to list comprehensions\n",
    "d = {x : x**2 for x in range(1,8) if x%3 == 0}\n",
    "print (d)"
   ]
  },
  {
   "cell_type": "markdown",
   "metadata": {},
   "source": [
    "#### Example 2: Doubles"
   ]
  },
  {
   "cell_type": "code",
   "execution_count": 47,
   "metadata": {
    "collapsed": false,
    "scrolled": true
   },
   "outputs": [
    {
     "name": "stdout",
     "output_type": "stream",
     "text": [
      "{'a': 'aa', 'b': 'bb', 'c': 'cc', 'd': 'dd', 'e': 'ee', 'f': 'ff', 'g': 'gg', 'h': 'hh', 'i': 'ii', 'j': 'jj', 'k': 'kk', 'l': 'll', 'm': 'mm', 'n': 'nn', 'o': 'oo', 'p': 'pp', 'q': 'qq', 'r': 'rr', 's': 'ss', 't': 'tt', 'u': 'uu', 'v': 'vv', 'w': 'ww', 'x': 'xx', 'y': 'yy', 'z': 'zz'}\n"
     ]
    }
   ],
   "source": [
    "#any iterable will work\n",
    "#finally we can use multiplying strings for something useful \n",
    "alphabet = \"abcdefghijklmnopqrstuvwxyz\"\n",
    "dd = {x:x*2 for x in alphabet}\n",
    "print (dd)"
   ]
  },
  {
   "cell_type": "markdown",
   "metadata": {},
   "source": [
    "#### Example 3: Introduction to Zip"
   ]
  },
  {
   "cell_type": "code",
   "execution_count": 4,
   "metadata": {
    "collapsed": false
   },
   "outputs": [
    {
     "name": "stdout",
     "output_type": "stream",
     "text": [
      "{'Astor': 11, 'Dusty': 13, 'Ada': 17}\n",
      "{'Astor': 11, 'Dusty': 13, 'Ada': 17}\n"
     ]
    }
   ],
   "source": [
    "names = [\"Astor\",\"Dusty\",\"Ada\"]\n",
    "ages = [11,13,17,18] #note that this list is longer so 18 doesn't get used\n",
    "third = [\"a\",\"b\",\"c\"]\n",
    "zipped = zip(names,ages)\n",
    "#print (list(zipped))\n",
    "\n",
    "d = {n:a for n,a in zip(names,ages)}\n",
    "#print (d)\n",
    "#print (zipped)\n",
    "dd = dict(list(zip(names,ages)))\n",
    "print (dd)\n",
    "print (d)\n",
    "\n"
   ]
  },
  {
   "cell_type": "markdown",
   "metadata": {},
   "source": [
    "#### Example 4: Initializing values"
   ]
  },
  {
   "cell_type": "code",
   "execution_count": 56,
   "metadata": {
    "collapsed": false
   },
   "outputs": [
    {
     "name": "stdout",
     "output_type": "stream",
     "text": [
      "{'Astor': 0, 'Dusty': 0, 'Ada': 0}\n",
      "{'Astor': 1, 'Dusty': 1, 'Ada': 1}\n"
     ]
    }
   ],
   "source": [
    "d = dict.fromkeys([\"Astor\",\"Dusty\",\"Ada\"],0)\n",
    "my_dogs = \"My dogs Astor and Dusty were English Setters\\\n",
    "           and Ada was an Irish setter. Setters are awesome!\"\n",
    "\n",
    "print(d)\n",
    "#counting occurences\n",
    "for key in d:\n",
    "    d[key] = my_dogs.count(key)\n",
    "print (d)"
   ]
  },
  {
   "cell_type": "markdown",
   "metadata": {},
   "source": [
    "### The Counter Object"
   ]
  },
  {
   "cell_type": "code",
   "execution_count": 61,
   "metadata": {
    "collapsed": false
   },
   "outputs": [
    {
     "name": "stdout",
     "output_type": "stream",
     "text": [
      "Counter({'Erin': 3, 'John': 2, 'Jake': 1, 'Anna': 1})\n",
      "<class 'collections.Counter'>\n",
      "Erin is found: 3 times in a.\n",
      "The most common two names are: [('Erin', 3), ('John', 2)]\n"
     ]
    }
   ],
   "source": [
    "import collections\n",
    "\n",
    "a = [\"John\",\"Erin\",\"Jake\",\"John\",\"Erin\",\"Erin\",\"Anna\"]\n",
    "\n",
    "c = collections.Counter(a)\n",
    "print(c)\n",
    "print (type(c))\n",
    "\n",
    "#counts can be accessed via the DICTIONARY API\n",
    "print(\"Erin is found:\", c[\"Erin\"], \"times in a.\")\n",
    "\n",
    "#you can get the most common occurences\n",
    "print (\"The most common two names are:\",c.most_common(2))\n"
   ]
  },
  {
   "cell_type": "markdown",
   "metadata": {},
   "source": [
    "### Dictionary Views\n",
    "#### Python 2.x and Python 3.x"
   ]
  },
  {
   "cell_type": "code",
   "execution_count": 60,
   "metadata": {
    "collapsed": false
   },
   "outputs": [
    {
     "name": "stdout",
     "output_type": "stream",
     "text": [
      "<class 'dict_keys'>\n"
     ]
    }
   ],
   "source": [
    "d = {\"Alexander The Great\":33,\"Phillip II\":55}\n",
    "d.keys()\n",
    "print (type(d.keys()))\n",
    "k = list(d.keys())\n",
    "\n",
    "print (k)\n"
   ]
  },
  {
   "cell_type": "markdown",
   "metadata": {},
   "source": [
    "### Interesting applications for Zip\n",
    "##### Parallel iteration"
   ]
  },
  {
   "cell_type": "code",
   "execution_count": 7,
   "metadata": {
    "collapsed": false
   },
   "outputs": [
    {
     "name": "stdout",
     "output_type": "stream",
     "text": [
      "b: ['raC', 'kayaK', 'leveL', 'radaR', 'enalP']\n",
      "palindromes: ['Kayak', 'Level', 'Radar']\n",
      "p: ['Kayak', 'Level', 'Radar']\n"
     ]
    }
   ],
   "source": [
    "a = [\"Car\",\"Kayak\",\"Level\",\"Radar\",\"Plane\"]\n",
    "b = [word[::-1] for word in a]\n",
    "print (\"b:\",b)\n",
    "palindromes = [i for i,k in zip(a,b) if i.lower() == k.lower()]\n",
    "print (\"palindromes:\",palindromes)\n",
    "\n",
    "#btw did I need to generate b?\n",
    "p = [i for i in a if i.lower() == i[::-1].lower()]\n",
    "print (\"p:\",p)"
   ]
  },
  {
   "cell_type": "markdown",
   "metadata": {},
   "source": [
    "#### You can zip more than 2 iterables"
   ]
  },
  {
   "cell_type": "code",
   "execution_count": 6,
   "metadata": {
    "collapsed": false
   },
   "outputs": [
    {
     "name": "stdout",
     "output_type": "stream",
     "text": [
      "(1, 0, 5)\n",
      "(2, 1, 4)\n",
      "(3, 2, 3)\n"
     ]
    }
   ],
   "source": [
    "a = [1,2,3,\"Jump\"]\n",
    "b = [0,1,2]\n",
    "c = [5,4,3,2,1]\n",
    "d = zip(a,b,c)\n",
    "\n",
    "for i,j,k in zip(a,b,c):\n",
    "    print ((i,j,k))"
   ]
  },
  {
   "cell_type": "markdown",
   "metadata": {},
   "source": [
    "#### Reversing zip\n",
    "##### You can unpack a zip object"
   ]
  },
  {
   "cell_type": "code",
   "execution_count": 9,
   "metadata": {
    "collapsed": false
   },
   "outputs": [
    {
     "name": "stdout",
     "output_type": "stream",
     "text": [
      "(1, 2, 3)\n",
      "(0, 1, 3)\n",
      "(5, 4, 3)\n"
     ]
    }
   ],
   "source": [
    "a = [1,2,3]\n",
    "b = [0,1,3,4]\n",
    "c = [5,4,3,2,1]\n",
    "d = zip(a,b,c)\n",
    "i,j,k = zip(*d)\n",
    "\n",
    "print (i)\n",
    "print (j)\n",
    "print (k)"
   ]
  },
  {
   "cell_type": "markdown",
   "metadata": {},
   "source": [
    "### Enumeration"
   ]
  },
  {
   "cell_type": "code",
   "execution_count": 20,
   "metadata": {
    "collapsed": false
   },
   "outputs": [
    {
     "name": "stdout",
     "output_type": "stream",
     "text": [
      "0.0 p\n",
      "10.5 y\n",
      "21.0 t\n",
      "31.5 h\n",
      "42.0 o\n",
      "52.5 n\n"
     ]
    }
   ],
   "source": [
    "#sometimes you need to have access to the index and the element\n",
    "a = [\"Car\",\"Kayak\",\"Level\",\"Radar\",\"Plane\"]\n",
    "b = \"python\"\n",
    "#note that I changed the enumeration start here\n",
    "for i,j in enumerate(b,):\n",
    "    print (i*10.5,j)"
   ]
  },
  {
   "cell_type": "markdown",
   "metadata": {},
   "source": [
    "## SETS in Python 2.x and 3.x"
   ]
  },
  {
   "cell_type": "code",
   "execution_count": 21,
   "metadata": {
    "collapsed": false
   },
   "outputs": [
    {
     "name": "stdout",
     "output_type": "stream",
     "text": [
      "{'d', 'a', 'c', 'b'}\n",
      "{'d', 'c', 'e', 'f'}\n"
     ]
    }
   ],
   "source": [
    "s1 = set(\"abcd\")\n",
    "#only one d will be kept\n",
    "s1 = set(\"abcddd\")\n",
    "#dictionaries sometimes print in order, but this is what you should expect\n",
    "#like dictionaries sets are NOT ORDERED\n",
    "print (s1)\n",
    "#you can make them from any iterable\n",
    "s2 = set([\"c\",\"c\",\"d\",\"e\",\"f\",\"c\"])\n",
    "print (s2)"
   ]
  },
  {
   "cell_type": "markdown",
   "metadata": {},
   "source": [
    "#### Sets: Intersection"
   ]
  },
  {
   "cell_type": "code",
   "execution_count": 22,
   "metadata": {
    "collapsed": false
   },
   "outputs": [
    {
     "name": "stdout",
     "output_type": "stream",
     "text": [
      "{'d', 'c'}\n"
     ]
    }
   ],
   "source": [
    "intersection = s1 & s2\n",
    "print(intersection)"
   ]
  },
  {
   "cell_type": "markdown",
   "metadata": {},
   "source": [
    "#### Sets: Difference"
   ]
  },
  {
   "cell_type": "code",
   "execution_count": 23,
   "metadata": {
    "collapsed": false
   },
   "outputs": [
    {
     "name": "stdout",
     "output_type": "stream",
     "text": [
      "{'a', 'b'}\n"
     ]
    }
   ],
   "source": [
    "difference = s1 - s2\n",
    "print (difference)"
   ]
  },
  {
   "cell_type": "markdown",
   "metadata": {},
   "source": [
    "#### Sets: Union"
   ]
  },
  {
   "cell_type": "code",
   "execution_count": 24,
   "metadata": {
    "collapsed": false
   },
   "outputs": [
    {
     "name": "stdout",
     "output_type": "stream",
     "text": [
      "{'d', 'c', 'a', 'e', 'f', 'b'}\n"
     ]
    }
   ],
   "source": [
    "union = s1 | s2\n",
    "print (union)"
   ]
  },
  {
   "cell_type": "markdown",
   "metadata": {},
   "source": [
    "#### Symmetric difference\n",
    "##### Elements in a not in b, and elements in b not in a\n",
    "##### Note the (XOR) symbol ^ use"
   ]
  },
  {
   "cell_type": "code",
   "execution_count": 25,
   "metadata": {
    "collapsed": false
   },
   "outputs": [
    {
     "name": "stdout",
     "output_type": "stream",
     "text": [
      "{'a', 'e', 'f', 'b'}\n"
     ]
    }
   ],
   "source": [
    "sd = s1 ^ s2\n",
    "print (sd)"
   ]
  },
  {
   "cell_type": "markdown",
   "metadata": {},
   "source": [
    "#### Superset and Subset"
   ]
  },
  {
   "cell_type": "code",
   "execution_count": 27,
   "metadata": {
    "collapsed": false
   },
   "outputs": [
    {
     "name": "stdout",
     "output_type": "stream",
     "text": [
      "{'d', 'a', 'c', 'b'} {'d', 'c', 'e', 'f'}\n",
      "False False\n"
     ]
    }
   ],
   "source": [
    "#s1 is neither a superset nor it is a subset of s2\n",
    "print (s1,s2)\n",
    "superset = s1 > s2\n",
    "subset = s1 < s2\n",
    "print (superset,subset)"
   ]
  },
  {
   "cell_type": "markdown",
   "metadata": {},
   "source": [
    "#### Set membership"
   ]
  },
  {
   "cell_type": "code",
   "execution_count": 28,
   "metadata": {
    "collapsed": false
   },
   "outputs": [
    {
     "name": "stdout",
     "output_type": "stream",
     "text": [
      "True\n"
     ]
    }
   ],
   "source": [
    "print (\"a\" in s1)"
   ]
  },
  {
   "cell_type": "markdown",
   "metadata": {},
   "source": [
    "#### Set methods"
   ]
  },
  {
   "cell_type": "code",
   "execution_count": 33,
   "metadata": {
    "collapsed": false
   },
   "outputs": [
    {
     "name": "stdout",
     "output_type": "stream",
     "text": [
      "{'d', 'c'}\n",
      "{'d', 'c', 'More Spam', 'Soap', 'Spam', 'a', 'b'}\n",
      "{'d', 'c', 'More Spam', 'Soap', 'a', 'b'}\n",
      "{'d', 'c', 'More Spam', 'Soap', 'a', 'b'}\n",
      "{'d', 'c', 'More Spam', 'Soap', 'a', 'b'}\n"
     ]
    }
   ],
   "source": [
    "s3 = s1.intersection(s2)\n",
    "print (s3)\n",
    "s1.update(set([\"Soap\",\"Spam\"]))\n",
    "s1.update({\"More Spam\"})\n",
    "print (s1)\n",
    "s1.remove(\"Spam\")\n",
    "print (s1)\n",
    "s1.union(s2)\n",
    "print (s1)\n",
    "s1.issubset(range(-10,10))\n",
    "print (s1)"
   ]
  },
  {
   "cell_type": "markdown",
   "metadata": {},
   "source": [
    "## SETS in Python 3.x"
   ]
  },
  {
   "cell_type": "code",
   "execution_count": 34,
   "metadata": {
    "collapsed": false
   },
   "outputs": [
    {
     "name": "stdout",
     "output_type": "stream",
     "text": [
      "{3, 4, 5, 6}\n"
     ]
    }
   ],
   "source": [
    "s1 = {1,2,3} #set literals\n",
    "s2 = {3,3,4,5,6}\n",
    "print (s2)"
   ]
  },
  {
   "cell_type": "markdown",
   "metadata": {},
   "source": [
    "### Set comprehensions"
   ]
  },
  {
   "cell_type": "code",
   "execution_count": 10,
   "metadata": {
    "collapsed": false
   },
   "outputs": [
    {
     "name": "stdout",
     "output_type": "stream",
     "text": [
      "{0, 1, 64, 4, 36, 9, 16, 49, 81, 25}\n"
     ]
    }
   ],
   "source": [
    "s1 = {x**2 for x in range(0,10)}\n",
    "print (s1)"
   ]
  },
  {
   "cell_type": "markdown",
   "metadata": {},
   "source": [
    "## FILES\n",
    "#### Writing to a file\n",
    "##### Note that there are modes other than w, r, a - read about that"
   ]
  },
  {
   "cell_type": "code",
   "execution_count": 36,
   "metadata": {
    "collapsed": false
   },
   "outputs": [
    {
     "name": "stdout",
     "output_type": "stream",
     "text": [
      "False\n",
      "True\n"
     ]
    }
   ],
   "source": [
    "#let's make a file\n",
    "#reading, writing appending, all uses the open function\n",
    "f = open(\"my_first_file.txt\", \"w\")\n",
    "#how do we write something to a file\n",
    "f.write (\"Python is fun!\\n\")\n",
    "#don't forget new lines\n",
    "f.write (\"Let's write some more.\\n\")\n",
    "#don't forget to close your file\n",
    "print (f.closed)\n",
    "f.close()\n",
    "#after we close it\n",
    "print (f.closed)"
   ]
  },
  {
   "cell_type": "markdown",
   "metadata": {},
   "source": [
    "#### Opening a file by using with\n",
    "##### Note that if you use with you don't need to remember to close the file"
   ]
  },
  {
   "cell_type": "code",
   "execution_count": 37,
   "metadata": {
    "collapsed": false
   },
   "outputs": [
    {
     "name": "stdout",
     "output_type": "stream",
     "text": [
      "True\n"
     ]
    }
   ],
   "source": [
    "with open(\"my_second_file.txt\",\"w\") as f:\n",
    "    f.write (\"If we use with, we don't need to close the file.\\n\")\n",
    "    f.write (\"In fact, with will do that automatically.\\n\")\n",
    "print (f.closed)"
   ]
  },
  {
   "cell_type": "markdown",
   "metadata": {},
   "source": [
    "#### Adding more text to an existing file"
   ]
  },
  {
   "cell_type": "code",
   "execution_count": 38,
   "metadata": {
    "collapsed": true
   },
   "outputs": [],
   "source": [
    "#change \"w\" to \"a\"\n",
    "with open(\"my_second_file.txt\",\"a\") as f:\n",
    "    f.write (\"If we open the file with 'a', we can append it.\\n\")"
   ]
  },
  {
   "cell_type": "markdown",
   "metadata": {},
   "source": [
    "## File access and the os module\n",
    "##### Warning: Be careful about use"
   ]
  },
  {
   "cell_type": "code",
   "execution_count": 39,
   "metadata": {
    "collapsed": false
   },
   "outputs": [
    {
     "name": "stdout",
     "output_type": "stream",
     "text": [
      "/Users/nsvrzikapa/Documents/Teaching/CSCI-E07/Lecture 6\n",
      "['.DS_Store', '.ipynb_checkpoints', 'Lecture 6 Code.ipynb', 'Lecture 6_170227.key', 'Lecture 6_170227.pptx', 'my_first_file.txt', 'my_new_name.txt', 'my_second_file.txt', 'new_data.csv', 'screen.csv']\n",
      "<class 'list'>\n"
     ]
    }
   ],
   "source": [
    "#just like any goodie in Python\n",
    "import os #done, now we have access to all functions in the os module\n",
    "#dir(os) #you will find there are a ton\n",
    "#help(os.listdir) #this is how we can learn about what a function does\n",
    "\n",
    "print (os.getcwd())\n",
    "cwd = os.getcwd() #we can store it\n",
    "cwd_files = os.listdir(cwd)\n",
    "print (cwd_files)\n",
    "#we see that os.listdir gives us a list of file names\n",
    "#file names are strings\n",
    "print (type(cwd_files)) "
   ]
  },
  {
   "cell_type": "markdown",
   "metadata": {},
   "source": [
    "### What if we wanted to only see/use certain files?\n",
    "#### Example: .txt files only"
   ]
  },
  {
   "cell_type": "code",
   "execution_count": 40,
   "metadata": {
    "collapsed": false
   },
   "outputs": [
    {
     "name": "stdout",
     "output_type": "stream",
     "text": [
      "['my_first_file.txt', 'my_new_name.txt', 'my_second_file.txt']\n",
      "['my_first_file.txt', 'my_new_name.txt', 'my_second_file.txt']\n",
      "['Lecture 6 Code.ipynb']\n"
     ]
    }
   ],
   "source": [
    "cwd_txt_files = [file for file in cwd_files if file.endswith(\".txt\")]\n",
    "print (cwd_txt_files)\n",
    "\n",
    "#how about words starting with something\n",
    "cwd_my_files = [file for file in cwd_files if file.startswith(\"my\")]\n",
    "print (cwd_my_files)\n",
    "\n",
    "#how about is some keyword is in the middle of the file name\n",
    "cwd_code_files = [file for file in cwd_files if \"Code\" in file]\n",
    "print (cwd_code_files)"
   ]
  },
  {
   "cell_type": "markdown",
   "metadata": {},
   "source": [
    "### Making a new directory"
   ]
  },
  {
   "cell_type": "code",
   "execution_count": 41,
   "metadata": {
    "collapsed": true
   },
   "outputs": [],
   "source": [
    "os.mkdir(\"Awesome_Dir\")"
   ]
  },
  {
   "cell_type": "markdown",
   "metadata": {},
   "source": [
    "### Changing the Current Working Directory (cwd)"
   ]
  },
  {
   "cell_type": "code",
   "execution_count": 42,
   "metadata": {
    "collapsed": false
   },
   "outputs": [
    {
     "data": {
      "text/plain": [
       "'/Users/nsvrzikapa/Documents/Teaching/CSCI-E07/Lecture 6/Awesome_Dir'"
      ]
     },
     "execution_count": 42,
     "metadata": {},
     "output_type": "execute_result"
    }
   ],
   "source": [
    "os.chdir(\"Awesome_Dir\")\n",
    "os.getcwd()"
   ]
  },
  {
   "cell_type": "markdown",
   "metadata": {},
   "source": [
    "### Removing a Directory"
   ]
  },
  {
   "cell_type": "code",
   "execution_count": 43,
   "metadata": {
    "collapsed": false
   },
   "outputs": [],
   "source": [
    "os.chdir(\"/Users/nsvrzikapa/Documents/Teaching/CSCI-E07/Lecture 6/\")\n",
    "os.getcwd()\n",
    "os.rmdir(\"Awesome_Dir\")"
   ]
  },
  {
   "cell_type": "markdown",
   "metadata": {},
   "source": [
    "### Removing a File"
   ]
  },
  {
   "cell_type": "code",
   "execution_count": 44,
   "metadata": {
    "collapsed": true
   },
   "outputs": [],
   "source": [
    "os.remove(\"my_first_file.txt\")"
   ]
  },
  {
   "cell_type": "markdown",
   "metadata": {},
   "source": [
    "### Renaming a File"
   ]
  },
  {
   "cell_type": "code",
   "execution_count": null,
   "metadata": {
    "collapsed": true
   },
   "outputs": [],
   "source": [
    "os.rename(\"my_second_file.txt\",\"my_new_name.txt\")"
   ]
  },
  {
   "cell_type": "markdown",
   "metadata": {},
   "source": [
    "## The CSV Module"
   ]
  },
  {
   "cell_type": "markdown",
   "metadata": {},
   "source": [
    "#### Reading a .csv file into a list of lists"
   ]
  },
  {
   "cell_type": "code",
   "execution_count": 45,
   "metadata": {
    "collapsed": false
   },
   "outputs": [
    {
     "name": "stdout",
     "output_type": "stream",
     "text": [
      "<class '_csv.reader'>\n",
      "<class 'list'>\n",
      "['Drug', '30nM', '50nM']\n",
      "['AL-1', '80%', '100%']\n",
      "['AL-2', '70%', '80%']\n",
      "['AL-3', '30%', '40%']\n"
     ]
    }
   ],
   "source": [
    "import csv\n",
    "data = []\n",
    "with open('screen.csv') as f:\n",
    "    reader = csv.reader(f)\n",
    "    print (type(reader))\n",
    "    data = list(reader)\n",
    "    print (type(data))\n",
    "    for row in data:\n",
    "        print(row)"
   ]
  },
  {
   "cell_type": "markdown",
   "metadata": {},
   "source": [
    "### Writing to a .csv file"
   ]
  },
  {
   "cell_type": "code",
   "execution_count": 46,
   "metadata": {
    "collapsed": true
   },
   "outputs": [],
   "source": [
    "data[0][1] = \"35nM\"\n",
    "import csv\n",
    "with open('new_data.csv', 'w') as f:\n",
    "    writer = csv.writer(f)\n",
    "    writer.writerows(data)"
   ]
  },
  {
   "cell_type": "code",
   "execution_count": null,
   "metadata": {
    "collapsed": true
   },
   "outputs": [],
   "source": []
  }
 ],
 "metadata": {
  "kernelspec": {
   "display_name": "Python 3",
   "language": "python",
   "name": "python3"
  },
  "language_info": {
   "codemirror_mode": {
    "name": "ipython",
    "version": 3
   },
   "file_extension": ".py",
   "mimetype": "text/x-python",
   "name": "python",
   "nbconvert_exporter": "python",
   "pygments_lexer": "ipython3",
   "version": "3.6.0"
  }
 },
 "nbformat": 4,
 "nbformat_minor": 2
}
