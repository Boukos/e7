{
 "cells": [
  {
   "cell_type": "markdown",
   "metadata": {},
   "source": [
    "### Nested Loops and break"
   ]
  },
  {
   "cell_type": "code",
   "execution_count": 85,
   "metadata": {
    "collapsed": false
   },
   "outputs": [
    {
     "name": "stdout",
     "output_type": "stream",
     "text": [
      "book\n",
      "mass\n",
      "brass\n",
      "plane\n",
      "3\n",
      "['Book', 'Mass', 'Brass']\n"
     ]
    }
   ],
   "source": [
    "#we have list1 of list we want to check\n",
    "list1 = [\"Book\",\"Mass\",\"Brass\",\"Plane\"]\n",
    "#we can make a list of things to look up\n",
    "#GOAL: check if ANY of the queries are in a word\n",
    "queries = [\"oo\",\"m\",\"ss\",\"k\"]\n",
    "\n",
    "#we need to check every element in list1? Loop!\n",
    "#list to big? Don't print the whole thing\n",
    "\n",
    "#our emptylist to store some result\n",
    "result = []\n",
    "for word in list1:\n",
    "    #converting it to lower case so caps don't mess us up\n",
    "    print (word.lower())\n",
    "    for query in queries:\n",
    "        if query in word.lower():\n",
    "            result.append(word)\n",
    "            break\n",
    "print (len(result))\n",
    "print (result)\n",
    "        \n",
    "#the moment we find something, we do something with it\n",
    "#now we are done checking (since it's enough to find one)\n",
    "#we break out of the inner loop\n"
   ]
  },
  {
   "cell_type": "markdown",
   "metadata": {},
   "source": [
    "### Dictionaries"
   ]
  },
  {
   "cell_type": "code",
   "execution_count": 46,
   "metadata": {
    "collapsed": false
   },
   "outputs": [
    {
     "name": "stdout",
     "output_type": "stream",
     "text": [
      "T\n",
      "['T', 'T', 'T', 'G', 'G', 'G', 'C', 'C', 'C', 'A', 'A', 'A']\n",
      "TTTGGGCCCAAA\n",
      "AAACCCGGGTTT\n"
     ]
    }
   ],
   "source": [
    "#Intro to dictionaries and a nice way to solve Problem 1\n",
    "d = {} #this is an empty dictionary\n",
    "\n",
    "#before the : those are keys after : values\n",
    "#you provide the key you get back the value\n",
    "dna_dict = {\"A\":\"T\",\"C\":\"G\",\"G\":\"C\",\"T\":\"A\"}\n",
    "\n",
    "\n",
    "#simple example we give it \"A\" it gives us back \"T\"\n",
    "print (dna_dict[\"A\"])\n",
    "dna = \"AAACCCGGGTTT\"\n",
    "\n",
    "#we know that the join function can turn a list into a string\n",
    "#so how can we use this to get a complement\n",
    "#let's use a list comprehension\n",
    "\n",
    "#first let's see what the list comprehension does by itself\n",
    "#as you remember list comprehensions give us back a list\n",
    "lc = [dna_dict[x] for x in dna]\n",
    "print (lc)\n",
    "\n",
    "dna_complement = \"\".join([dna_dict[x] for x in dna])\n",
    "\n",
    "#this here is the same since we already referenced the result of\n",
    "#our list comprehension in lc\n",
    "#dna_complement = \"\".join(lc)\n",
    "#isn't that awesome?\n",
    "print (dna_complement)\n",
    "\n",
    "#OK WE GOT THE COMPLEMENT\n",
    "#HOW ABOUT THE REVERSE COMPLEMENT?\n",
    "dna_rc = \"\".join([dna_dict[x] for x in dna[::-1]])\n",
    "print (dna_rc)\n",
    "\n",
    "#now you have to figure out how to use this with a list of several things\n",
    "#can you use that one liner with an append?  Of course!\n",
    "#Can you think of how to make a dictionary for the hydrogen bond problem?\n",
    "#remember nothing wrong with keys being strings and values being Integers."
   ]
  },
  {
   "cell_type": "markdown",
   "metadata": {},
   "source": [
    "### Looking up something that doesn't exist in a Dictionary? Bad!"
   ]
  },
  {
   "cell_type": "code",
   "execution_count": 47,
   "metadata": {
    "collapsed": false
   },
   "outputs": [
    {
     "ename": "KeyError",
     "evalue": "'c'",
     "output_type": "error",
     "traceback": [
      "\u001b[0;31m---------------------------------------------------------------------------\u001b[0m",
      "\u001b[0;31mKeyError\u001b[0m                                  Traceback (most recent call last)",
      "\u001b[0;32m<ipython-input-47-1f99d54e5a6a>\u001b[0m in \u001b[0;36m<module>\u001b[0;34m()\u001b[0m\n\u001b[1;32m      1\u001b[0m \u001b[0md\u001b[0m \u001b[0;34m=\u001b[0m \u001b[0;34m{\u001b[0m\u001b[0;34m\"a\"\u001b[0m\u001b[0;34m:\u001b[0m\u001b[0;34m\"Aaron\"\u001b[0m\u001b[0;34m,\u001b[0m\u001b[0;34m\"b\"\u001b[0m\u001b[0;34m:\u001b[0m\u001b[0;34m\"Bob\"\u001b[0m\u001b[0;34m}\u001b[0m\u001b[0;34m\u001b[0m\u001b[0m\n\u001b[0;32m----> 2\u001b[0;31m \u001b[0mprint\u001b[0m \u001b[0;34m(\u001b[0m\u001b[0md\u001b[0m\u001b[0;34m[\u001b[0m\u001b[0;34m\"c\"\u001b[0m\u001b[0;34m]\u001b[0m\u001b[0;34m)\u001b[0m\u001b[0;34m\u001b[0m\u001b[0m\n\u001b[0m",
      "\u001b[0;31mKeyError\u001b[0m: 'c'"
     ]
    }
   ],
   "source": [
    "d = {\"a\":\"Aaron\",\"b\":\"Bob\"}\n",
    "#if your query doesn't exist in your list of keys\n",
    "#you will not get a nice warning, your program will crash\n",
    "print (d[\"c\"])"
   ]
  },
  {
   "cell_type": "markdown",
   "metadata": {},
   "source": [
    "### Different ways of making dictionaries"
   ]
  },
  {
   "cell_type": "code",
   "execution_count": 11,
   "metadata": {
    "collapsed": false
   },
   "outputs": [
    {
     "name": "stdout",
     "output_type": "stream",
     "text": [
      "{'A': 'T', 'C': 'G', 'G': 'C', 'T': 'A'}\n",
      "{'A': 'T', 'C': 'G', 'G': 'C', 'T': 'A'}\n",
      "{'A': 'T', 'C': 'G', 'G': 'C', 'T': 'A'}\n",
      "{'A': 'A', 'C': 'G', 'G': 'C', 'T': 'A'}\n"
     ]
    }
   ],
   "source": [
    "dna_dict = {\"A\":\"T\",\"C\":\"G\",\"G\":\"C\",\"T\":\"A\"}\n",
    "dna_dict1 = dict(A=\"T\",C=\"G\",G=\"C\",T=\"A\")\n",
    "dna_dict2 = dict([(\"A\",\"T\"),(\"C\",\"G\"),(\"G\",\"C\"),(\"T\",\"A\")])\n",
    "dna_dict3 = {}\n",
    "dna_dict3[\"A\"]=\"T\"\n",
    "dna_dict3[\"C\"]=\"G\"\n",
    "dna_dict3[\"G\"]=\"C\"\n",
    "dna_dict3[\"T\"]=\"A\"\n",
    "dna_dict3[\"A\"]=\"A\"\n",
    "\n",
    "print (dna_dict)\n",
    "print (dna_dict1)\n",
    "print (dna_dict2)\n",
    "print (dna_dict3)"
   ]
  },
  {
   "cell_type": "markdown",
   "metadata": {},
   "source": [
    "### Getting lists of keys, values, items\n",
    "#### Note you will have to list typecast in Python 3.x"
   ]
  },
  {
   "cell_type": "code",
   "execution_count": 12,
   "metadata": {
    "collapsed": false
   },
   "outputs": [
    {
     "name": "stdout",
     "output_type": "stream",
     "text": [
      "dict_keys(['eggs', 'spam', 'bread'])\n",
      "dict_values([2, 3, 1])\n",
      "dict_items([('eggs', 2), ('spam', 3), ('bread', 1)])\n",
      "['eggs', 'spam', 'bread'] [2, 3, 1] [('eggs', 2), ('spam', 3), ('bread', 1)]\n"
     ]
    }
   ],
   "source": [
    "d = {\"eggs\":2,\"spam\":3,\"bread\":1}\n",
    "print (d.keys())\n",
    "print (d.values())\n",
    "print (d.items())\n",
    "#you have to typecast in Python 3\n",
    "#Note in Python 2.x these methods return lists directly\n",
    "\n",
    "keys = list(d.keys())\n",
    "values = list(d.values())\n",
    "items = list (d.items())\n",
    "print (keys,values,items)\n"
   ]
  },
  {
   "cell_type": "markdown",
   "metadata": {},
   "source": [
    "### Updating a dictionary"
   ]
  },
  {
   "cell_type": "code",
   "execution_count": 14,
   "metadata": {
    "collapsed": false
   },
   "outputs": [
    {
     "name": "stdout",
     "output_type": "stream",
     "text": [
      "{'eggs': 5, 'spam': 3, 'bread': 1, 'ham': 2}\n",
      "{'ham': 2, 'eggs': 5}\n"
     ]
    }
   ],
   "source": [
    "d = {\"eggs\":2,\"spam\":3,\"bread\":1}\n",
    "e = {\"ham\":2,\"eggs\":5}\n",
    "d.update(e)\n",
    "\n",
    "print (d)\n",
    "print (e)"
   ]
  },
  {
   "cell_type": "markdown",
   "metadata": {},
   "source": [
    "### Popping values out of dictionaries"
   ]
  },
  {
   "cell_type": "code",
   "execution_count": 15,
   "metadata": {
    "collapsed": false
   },
   "outputs": [
    {
     "name": "stdout",
     "output_type": "stream",
     "text": [
      "3\n",
      "{'bread': 1}\n"
     ]
    }
   ],
   "source": [
    "d = {\"eggs\":2,\"spam\":3,\"bread\":1}\n",
    "a = d.pop(\"eggs\")\n",
    "a = d.pop(\"spam\")\n",
    "print (a)\n",
    "print(d)"
   ]
  },
  {
   "cell_type": "markdown",
   "metadata": {},
   "source": [
    "###  Looping through dictionaries"
   ]
  },
  {
   "cell_type": "code",
   "execution_count": 6,
   "metadata": {
    "collapsed": false
   },
   "outputs": [
    {
     "name": "stdout",
     "output_type": "stream",
     "text": [
      "This is what range gives us:  [0, 1, 2]\n",
      "0 eggs 2\n",
      "1 spam 3\n",
      "2 bread 1\n",
      "2\n",
      "3\n",
      "1\n",
      "{'eggs': 2, 'spam': 3, 'bread': 1}\n",
      "2\n",
      "{'spam': 3, 'bread': 1}\n",
      "3\n",
      "{'bread': 1}\n",
      "1\n"
     ]
    }
   ],
   "source": [
    "\n",
    "d = {\"eggs\":2,\"spam\":3,\"bread\":1}\n",
    "a = list(d.keys())\n",
    "#This looks scary but it's not\n",
    "print (\"This is what range gives us: \",list(range(0,len(a))))\n",
    "\n",
    "for k in range(0,len(a)): #so k will be 0, then 1, then 2\n",
    "    print (k,a[k], d[a[k]]) \n",
    "    #a[k] will be a[0],a[1],a[2] since a is the list of keys\n",
    "    #that will be eggs, spamm, bread\n",
    "    #d[KEY] remember? so d[a[k]] is the same as d[\"eggs\"] etc...\n",
    "    \n",
    "    \n",
    "for j in d:\n",
    "    print (d[j])\n",
    "    \n",
    "#This didn't work before because I didn't typecast\n",
    "#the stupid python3 keys() into a list\n",
    "for j in list(d.keys()):\n",
    "    print (d)\n",
    "    print (d.pop(j))"
   ]
  },
  {
   "cell_type": "markdown",
   "metadata": {},
   "source": [
    "### Using get to handle missing keys"
   ]
  },
  {
   "cell_type": "code",
   "execution_count": 28,
   "metadata": {
    "collapsed": false
   },
   "outputs": [
    {
     "name": "stdout",
     "output_type": "stream",
     "text": [
      "False\n",
      "None\n"
     ]
    }
   ],
   "source": [
    "d = {\"eggs\":2,\"spam\":3,\"bread\":1}\n",
    "print (d.get(\"mayo\",\"False\"))\n",
    "\n",
    "d = {\"eggs\":2,\"spam\":3,\"bread\":1}\n",
    "print (d.get(\"mayo\"))"
   ]
  },
  {
   "cell_type": "code",
   "execution_count": null,
   "metadata": {
    "collapsed": true
   },
   "outputs": [],
   "source": []
  }
 ],
 "metadata": {
  "kernelspec": {
   "display_name": "Python 3",
   "language": "python",
   "name": "python3"
  },
  "language_info": {
   "codemirror_mode": {
    "name": "ipython",
    "version": 3
   },
   "file_extension": ".py",
   "mimetype": "text/x-python",
   "name": "python",
   "nbconvert_exporter": "python",
   "pygments_lexer": "ipython3",
   "version": "3.6.0"
  }
 },
 "nbformat": 4,
 "nbformat_minor": 2
}
